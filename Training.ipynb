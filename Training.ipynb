{
 "cells": [
  {
   "cell_type": "markdown",
   "metadata": {},
   "source": [
    "# Imports"
   ]
  },
  {
   "cell_type": "code",
   "execution_count": 1,
   "metadata": {},
   "outputs": [],
   "source": [
    "import pandas as pd\n",
    "import numpy as np\n",
    "import os\n",
    "import pickle\n",
    "import matplotlib.pyplot as plt\n",
    "import seaborn as sns\n",
    "from sklearn import __version__ as sklearn_version\n",
    "from sklearn.decomposition import PCA\n",
    "from sklearn.preprocessing import scale\n",
    "from sklearn.model_selection import train_test_split, cross_validate, GridSearchCV, learning_curve\n",
    "from sklearn.preprocessing import StandardScaler, MinMaxScaler\n",
    "from sklearn.dummy import DummyRegressor\n",
    "from sklearn.linear_model import LinearRegression\n",
    "from sklearn.ensemble import RandomForestRegressor\n",
    "from sklearn.metrics import r2_score, mean_squared_error, mean_absolute_error\n",
    "from sklearn.pipeline import make_pipeline\n",
    "from sklearn.impute import SimpleImputer\n",
    "from sklearn.feature_selection import SelectKBest, f_regression\n",
    "from sklearn.metrics import mean_absolute_error\n",
    "from fbprophet import Prophet\n",
    "import datetime"
   ]
  },
  {
   "cell_type": "markdown",
   "metadata": {},
   "source": [
    "# Load Data"
   ]
  },
  {
   "cell_type": "code",
   "execution_count": 2,
   "metadata": {},
   "outputs": [],
   "source": [
    "#Data Loading\n",
    "df = pd.read_pickle('./pkl_files/df_10.pkl')"
   ]
  },
  {
   "cell_type": "code",
   "execution_count": 3,
   "metadata": {},
   "outputs": [
    {
     "data": {
      "text/html": [
       "<div>\n",
       "<style scoped>\n",
       "    .dataframe tbody tr th:only-of-type {\n",
       "        vertical-align: middle;\n",
       "    }\n",
       "\n",
       "    .dataframe tbody tr th {\n",
       "        vertical-align: top;\n",
       "    }\n",
       "\n",
       "    .dataframe thead th {\n",
       "        text-align: right;\n",
       "    }\n",
       "</style>\n",
       "<table border=\"1\" class=\"dataframe\">\n",
       "  <thead>\n",
       "    <tr style=\"text-align: right;\">\n",
       "      <th>Datetime</th>\n",
       "      <th>2014-01-01 07:40:00+00:00</th>\n",
       "      <th>2014-01-01 07:40:00+00:00</th>\n",
       "      <th>2014-01-01 07:50:00+00:00</th>\n",
       "      <th>2014-01-01 07:50:00+00:00</th>\n",
       "      <th>2014-01-01 08:00:00+00:00</th>\n",
       "    </tr>\n",
       "  </thead>\n",
       "  <tbody>\n",
       "    <tr>\n",
       "      <th>PV Cell</th>\n",
       "      <td>A</td>\n",
       "      <td>B</td>\n",
       "      <td>B</td>\n",
       "      <td>A</td>\n",
       "      <td>B</td>\n",
       "    </tr>\n",
       "    <tr>\n",
       "      <th>Ambient Temperature [ºC]</th>\n",
       "      <td>9.72037</td>\n",
       "      <td>9.72292</td>\n",
       "      <td>9.765</td>\n",
       "      <td>9.765</td>\n",
       "      <td>9.52833</td>\n",
       "    </tr>\n",
       "    <tr>\n",
       "      <th>Global Radiation [W/m2]</th>\n",
       "      <td>7.54353</td>\n",
       "      <td>7.59508</td>\n",
       "      <td>15.7299</td>\n",
       "      <td>15.7299</td>\n",
       "      <td>39.1631</td>\n",
       "    </tr>\n",
       "    <tr>\n",
       "      <th>Diffuse Radiation [W/m2]</th>\n",
       "      <td>7.21198</td>\n",
       "      <td>7.24733</td>\n",
       "      <td>13.8266</td>\n",
       "      <td>13.8266</td>\n",
       "      <td>26.8813</td>\n",
       "    </tr>\n",
       "    <tr>\n",
       "      <th>Ultraviolet [W/m2]</th>\n",
       "      <td>0.894617</td>\n",
       "      <td>0.912466</td>\n",
       "      <td>1.37165</td>\n",
       "      <td>1.37165</td>\n",
       "      <td>2.09095</td>\n",
       "    </tr>\n",
       "    <tr>\n",
       "      <th>Wind Velocity [m/s]</th>\n",
       "      <td>0.627778</td>\n",
       "      <td>0.61875</td>\n",
       "      <td>0.518333</td>\n",
       "      <td>0.518333</td>\n",
       "      <td>0.64</td>\n",
       "    </tr>\n",
       "    <tr>\n",
       "      <th>Wind Direction [º]</th>\n",
       "      <td>281.16</td>\n",
       "      <td>281.888</td>\n",
       "      <td>334.33</td>\n",
       "      <td>334.33</td>\n",
       "      <td>314.493</td>\n",
       "    </tr>\n",
       "    <tr>\n",
       "      <th>Current DC [A]</th>\n",
       "      <td>0.0961411</td>\n",
       "      <td>0.0416265</td>\n",
       "      <td>0.2465</td>\n",
       "      <td>0.29275</td>\n",
       "      <td>0.9385</td>\n",
       "    </tr>\n",
       "    <tr>\n",
       "      <th>Power DC [W]</th>\n",
       "      <td>2.02627</td>\n",
       "      <td>0.939702</td>\n",
       "      <td>4.83639</td>\n",
       "      <td>6.86335</td>\n",
       "      <td>18.4311</td>\n",
       "    </tr>\n",
       "    <tr>\n",
       "      <th>Surface Temperature [ºC]</th>\n",
       "      <td>9.46667</td>\n",
       "      <td>9.75</td>\n",
       "      <td>9.94</td>\n",
       "      <td>9.71</td>\n",
       "      <td>10.89</td>\n",
       "    </tr>\n",
       "    <tr>\n",
       "      <th>Voltage DC [V]</th>\n",
       "      <td>22.0333</td>\n",
       "      <td>26.3125</td>\n",
       "      <td>21.045</td>\n",
       "      <td>23.375</td>\n",
       "      <td>19.635</td>\n",
       "    </tr>\n",
       "  </tbody>\n",
       "</table>\n",
       "</div>"
      ],
      "text/plain": [
       "Datetime                 2014-01-01 07:40:00+00:00 2014-01-01 07:40:00+00:00  \\\n",
       "PV Cell                                          A                         B   \n",
       "Ambient Temperature [ºC]                   9.72037                   9.72292   \n",
       "Global Radiation [W/m2]                    7.54353                   7.59508   \n",
       "Diffuse Radiation [W/m2]                   7.21198                   7.24733   \n",
       "Ultraviolet [W/m2]                        0.894617                  0.912466   \n",
       "Wind Velocity [m/s]                       0.627778                   0.61875   \n",
       "Wind Direction [º]                          281.16                   281.888   \n",
       "Current DC [A]                           0.0961411                 0.0416265   \n",
       "Power DC [W]                               2.02627                  0.939702   \n",
       "Surface Temperature [ºC]                   9.46667                      9.75   \n",
       "Voltage DC [V]                             22.0333                   26.3125   \n",
       "\n",
       "Datetime                 2014-01-01 07:50:00+00:00 2014-01-01 07:50:00+00:00  \\\n",
       "PV Cell                                          B                         A   \n",
       "Ambient Temperature [ºC]                     9.765                     9.765   \n",
       "Global Radiation [W/m2]                    15.7299                   15.7299   \n",
       "Diffuse Radiation [W/m2]                   13.8266                   13.8266   \n",
       "Ultraviolet [W/m2]                         1.37165                   1.37165   \n",
       "Wind Velocity [m/s]                       0.518333                  0.518333   \n",
       "Wind Direction [º]                          334.33                    334.33   \n",
       "Current DC [A]                              0.2465                   0.29275   \n",
       "Power DC [W]                               4.83639                   6.86335   \n",
       "Surface Temperature [ºC]                      9.94                      9.71   \n",
       "Voltage DC [V]                              21.045                    23.375   \n",
       "\n",
       "Datetime                 2014-01-01 08:00:00+00:00  \n",
       "PV Cell                                          B  \n",
       "Ambient Temperature [ºC]                   9.52833  \n",
       "Global Radiation [W/m2]                    39.1631  \n",
       "Diffuse Radiation [W/m2]                   26.8813  \n",
       "Ultraviolet [W/m2]                         2.09095  \n",
       "Wind Velocity [m/s]                           0.64  \n",
       "Wind Direction [º]                         314.493  \n",
       "Current DC [A]                              0.9385  \n",
       "Power DC [W]                               18.4311  \n",
       "Surface Temperature [ºC]                     10.89  \n",
       "Voltage DC [V]                              19.635  "
      ]
     },
     "execution_count": 3,
     "metadata": {},
     "output_type": "execute_result"
    }
   ],
   "source": [
    "df.head().T"
   ]
  },
  {
   "cell_type": "code",
   "execution_count": 4,
   "metadata": {},
   "outputs": [],
   "source": [
    "#df['dt'] = df.index"
   ]
  },
  {
   "cell_type": "code",
   "execution_count": 5,
   "metadata": {},
   "outputs": [],
   "source": [
    "#mask_year = (df['dt'] >='2015-01-01') & (df['dt'] <'2015-05-01')"
   ]
  },
  {
   "cell_type": "code",
   "execution_count": 6,
   "metadata": {},
   "outputs": [],
   "source": [
    "#df = df.loc[mask_year]"
   ]
  },
  {
   "cell_type": "code",
   "execution_count": 7,
   "metadata": {},
   "outputs": [],
   "source": [
    "df = df.loc[df['PV Cell'] == \"A\"]"
   ]
  },
  {
   "cell_type": "code",
   "execution_count": 8,
   "metadata": {},
   "outputs": [],
   "source": [
    "df.drop(columns=['Current DC [A]','Voltage DC [V]','PV Cell'],inplace=True)\n",
    "#df.drop(columns=['Current DC [A]','Voltage DC [V]'],inplace=True)"
   ]
  },
  {
   "cell_type": "code",
   "execution_count": 9,
   "metadata": {},
   "outputs": [
    {
     "data": {
      "text/html": [
       "<div>\n",
       "<style scoped>\n",
       "    .dataframe tbody tr th:only-of-type {\n",
       "        vertical-align: middle;\n",
       "    }\n",
       "\n",
       "    .dataframe tbody tr th {\n",
       "        vertical-align: top;\n",
       "    }\n",
       "\n",
       "    .dataframe thead th {\n",
       "        text-align: right;\n",
       "    }\n",
       "</style>\n",
       "<table border=\"1\" class=\"dataframe\">\n",
       "  <thead>\n",
       "    <tr style=\"text-align: right;\">\n",
       "      <th></th>\n",
       "      <th>Ambient Temperature [ºC]</th>\n",
       "      <th>Global Radiation [W/m2]</th>\n",
       "      <th>Diffuse Radiation [W/m2]</th>\n",
       "      <th>Ultraviolet [W/m2]</th>\n",
       "      <th>Wind Velocity [m/s]</th>\n",
       "      <th>Wind Direction [º]</th>\n",
       "      <th>Power DC [W]</th>\n",
       "      <th>Surface Temperature [ºC]</th>\n",
       "    </tr>\n",
       "  </thead>\n",
       "  <tbody>\n",
       "    <tr>\n",
       "      <th>count</th>\n",
       "      <td>62854.000000</td>\n",
       "      <td>62854.000000</td>\n",
       "      <td>62854.000000</td>\n",
       "      <td>62854.000000</td>\n",
       "      <td>62854.000000</td>\n",
       "      <td>62854.000000</td>\n",
       "      <td>62854.000000</td>\n",
       "      <td>62854.000000</td>\n",
       "    </tr>\n",
       "    <tr>\n",
       "      <th>mean</th>\n",
       "      <td>20.835303</td>\n",
       "      <td>445.900985</td>\n",
       "      <td>122.339645</td>\n",
       "      <td>27.098394</td>\n",
       "      <td>2.587778</td>\n",
       "      <td>200.133790</td>\n",
       "      <td>98.548942</td>\n",
       "      <td>28.426338</td>\n",
       "    </tr>\n",
       "    <tr>\n",
       "      <th>std</th>\n",
       "      <td>5.575371</td>\n",
       "      <td>315.051945</td>\n",
       "      <td>98.919399</td>\n",
       "      <td>19.426670</td>\n",
       "      <td>1.202411</td>\n",
       "      <td>77.586552</td>\n",
       "      <td>70.531576</td>\n",
       "      <td>8.933510</td>\n",
       "    </tr>\n",
       "    <tr>\n",
       "      <th>min</th>\n",
       "      <td>3.519048</td>\n",
       "      <td>0.899312</td>\n",
       "      <td>1.605492</td>\n",
       "      <td>0.503170</td>\n",
       "      <td>0.000000</td>\n",
       "      <td>0.000000</td>\n",
       "      <td>0.000000</td>\n",
       "      <td>2.357143</td>\n",
       "    </tr>\n",
       "    <tr>\n",
       "      <th>25%</th>\n",
       "      <td>16.500000</td>\n",
       "      <td>152.755623</td>\n",
       "      <td>57.819850</td>\n",
       "      <td>9.635011</td>\n",
       "      <td>1.721667</td>\n",
       "      <td>130.369050</td>\n",
       "      <td>28.086418</td>\n",
       "      <td>21.150000</td>\n",
       "    </tr>\n",
       "    <tr>\n",
       "      <th>50%</th>\n",
       "      <td>20.865834</td>\n",
       "      <td>422.034085</td>\n",
       "      <td>95.134326</td>\n",
       "      <td>24.250744</td>\n",
       "      <td>2.565000</td>\n",
       "      <td>219.602652</td>\n",
       "      <td>98.027888</td>\n",
       "      <td>28.560000</td>\n",
       "    </tr>\n",
       "    <tr>\n",
       "      <th>75%</th>\n",
       "      <td>24.980000</td>\n",
       "      <td>713.722294</td>\n",
       "      <td>155.181215</td>\n",
       "      <td>42.972571</td>\n",
       "      <td>3.375000</td>\n",
       "      <td>259.526726</td>\n",
       "      <td>163.434625</td>\n",
       "      <td>35.560000</td>\n",
       "    </tr>\n",
       "    <tr>\n",
       "      <th>max</th>\n",
       "      <td>38.071668</td>\n",
       "      <td>1267.771204</td>\n",
       "      <td>698.234880</td>\n",
       "      <td>75.998830</td>\n",
       "      <td>9.435001</td>\n",
       "      <td>356.159480</td>\n",
       "      <td>266.294050</td>\n",
       "      <td>57.580000</td>\n",
       "    </tr>\n",
       "  </tbody>\n",
       "</table>\n",
       "</div>"
      ],
      "text/plain": [
       "       Ambient Temperature [ºC]  Global Radiation [W/m2]  \\\n",
       "count              62854.000000             62854.000000   \n",
       "mean                  20.835303               445.900985   \n",
       "std                    5.575371               315.051945   \n",
       "min                    3.519048                 0.899312   \n",
       "25%                   16.500000               152.755623   \n",
       "50%                   20.865834               422.034085   \n",
       "75%                   24.980000               713.722294   \n",
       "max                   38.071668              1267.771204   \n",
       "\n",
       "       Diffuse Radiation [W/m2]  Ultraviolet [W/m2]  Wind Velocity [m/s]  \\\n",
       "count              62854.000000        62854.000000         62854.000000   \n",
       "mean                 122.339645           27.098394             2.587778   \n",
       "std                   98.919399           19.426670             1.202411   \n",
       "min                    1.605492            0.503170             0.000000   \n",
       "25%                   57.819850            9.635011             1.721667   \n",
       "50%                   95.134326           24.250744             2.565000   \n",
       "75%                  155.181215           42.972571             3.375000   \n",
       "max                  698.234880           75.998830             9.435001   \n",
       "\n",
       "       Wind Direction [º]  Power DC [W]  Surface Temperature [ºC]  \n",
       "count        62854.000000  62854.000000              62854.000000  \n",
       "mean           200.133790     98.548942                 28.426338  \n",
       "std             77.586552     70.531576                  8.933510  \n",
       "min              0.000000      0.000000                  2.357143  \n",
       "25%            130.369050     28.086418                 21.150000  \n",
       "50%            219.602652     98.027888                 28.560000  \n",
       "75%            259.526726    163.434625                 35.560000  \n",
       "max            356.159480    266.294050                 57.580000  "
      ]
     },
     "execution_count": 9,
     "metadata": {},
     "output_type": "execute_result"
    }
   ],
   "source": [
    "df.describe()"
   ]
  },
  {
   "cell_type": "code",
   "execution_count": 10,
   "metadata": {},
   "outputs": [
    {
     "data": {
      "text/plain": [
       "Ambient Temperature [ºC]    float64\n",
       "Global Radiation [W/m2]     float64\n",
       "Diffuse Radiation [W/m2]    float64\n",
       "Ultraviolet [W/m2]          float64\n",
       "Wind Velocity [m/s]         float64\n",
       "Wind Direction [º]          float64\n",
       "Power DC [W]                float64\n",
       "Surface Temperature [ºC]    float64\n",
       "dtype: object"
      ]
     },
     "execution_count": 10,
     "metadata": {},
     "output_type": "execute_result"
    }
   ],
   "source": [
    "df.dtypes"
   ]
  },
  {
   "cell_type": "code",
   "execution_count": 11,
   "metadata": {},
   "outputs": [],
   "source": [
    "df.dropna(thresh=3,inplace=True)"
   ]
  },
  {
   "cell_type": "code",
   "execution_count": 12,
   "metadata": {},
   "outputs": [
    {
     "data": {
      "text/plain": [
       "Ambient Temperature [ºC]    0\n",
       "Global Radiation [W/m2]     0\n",
       "Diffuse Radiation [W/m2]    0\n",
       "Ultraviolet [W/m2]          0\n",
       "Wind Velocity [m/s]         0\n",
       "Wind Direction [º]          0\n",
       "Power DC [W]                0\n",
       "Surface Temperature [ºC]    0\n",
       "dtype: int64"
      ]
     },
     "execution_count": 12,
     "metadata": {},
     "output_type": "execute_result"
    }
   ],
   "source": [
    "df.isnull().sum()"
   ]
  },
  {
   "cell_type": "markdown",
   "metadata": {},
   "source": [
    "# Extract Power"
   ]
  },
  {
   "cell_type": "code",
   "execution_count": 13,
   "metadata": {},
   "outputs": [],
   "source": [
    "Power = df[\"Power DC [W]\"]"
   ]
  },
  {
   "cell_type": "code",
   "execution_count": 14,
   "metadata": {},
   "outputs": [
    {
     "data": {
      "text/plain": [
       "Datetime\n",
       "2014-01-01 07:40:00+00:00     2.026272\n",
       "2014-01-01 07:50:00+00:00     6.863350\n",
       "2014-01-01 08:00:00+00:00    25.895750\n",
       "2014-01-01 08:10:00+00:00    35.291137\n",
       "2014-01-01 08:20:00+00:00    35.802737\n",
       "Name: Power DC [W], dtype: float64"
      ]
     },
     "execution_count": 14,
     "metadata": {},
     "output_type": "execute_result"
    }
   ],
   "source": [
    "Power.head()"
   ]
  },
  {
   "cell_type": "code",
   "execution_count": 15,
   "metadata": {},
   "outputs": [
    {
     "data": {
      "text/plain": [
       "(62854, 8)"
      ]
     },
     "execution_count": 15,
     "metadata": {},
     "output_type": "execute_result"
    }
   ],
   "source": [
    "df.shape"
   ]
  },
  {
   "cell_type": "code",
   "execution_count": 16,
   "metadata": {},
   "outputs": [],
   "source": [
    "#Drop power from df\n",
    "df_m = df.drop(columns=[\"Power DC [W]\"])"
   ]
  },
  {
   "cell_type": "code",
   "execution_count": 17,
   "metadata": {},
   "outputs": [
    {
     "data": {
      "text/plain": [
       "(62854, 7)"
      ]
     },
     "execution_count": 17,
     "metadata": {},
     "output_type": "execute_result"
    }
   ],
   "source": [
    "df_m.shape"
   ]
  },
  {
   "cell_type": "code",
   "execution_count": 18,
   "metadata": {},
   "outputs": [
    {
     "data": {
      "text/html": [
       "<div>\n",
       "<style scoped>\n",
       "    .dataframe tbody tr th:only-of-type {\n",
       "        vertical-align: middle;\n",
       "    }\n",
       "\n",
       "    .dataframe tbody tr th {\n",
       "        vertical-align: top;\n",
       "    }\n",
       "\n",
       "    .dataframe thead th {\n",
       "        text-align: right;\n",
       "    }\n",
       "</style>\n",
       "<table border=\"1\" class=\"dataframe\">\n",
       "  <thead>\n",
       "    <tr style=\"text-align: right;\">\n",
       "      <th>Datetime</th>\n",
       "      <th>2014-01-01 07:40:00+00:00</th>\n",
       "      <th>2014-01-01 07:50:00+00:00</th>\n",
       "      <th>2014-01-01 08:00:00+00:00</th>\n",
       "      <th>2014-01-01 08:10:00+00:00</th>\n",
       "      <th>2014-01-01 08:20:00+00:00</th>\n",
       "    </tr>\n",
       "  </thead>\n",
       "  <tbody>\n",
       "    <tr>\n",
       "      <th>Ambient Temperature [ºC]</th>\n",
       "      <td>9.720370</td>\n",
       "      <td>9.765000</td>\n",
       "      <td>9.528333</td>\n",
       "      <td>9.348334</td>\n",
       "      <td>9.451668</td>\n",
       "    </tr>\n",
       "    <tr>\n",
       "      <th>Global Radiation [W/m2]</th>\n",
       "      <td>7.543532</td>\n",
       "      <td>15.729948</td>\n",
       "      <td>39.163142</td>\n",
       "      <td>56.345415</td>\n",
       "      <td>73.218330</td>\n",
       "    </tr>\n",
       "    <tr>\n",
       "      <th>Diffuse Radiation [W/m2]</th>\n",
       "      <td>7.211980</td>\n",
       "      <td>13.826647</td>\n",
       "      <td>26.881252</td>\n",
       "      <td>35.346479</td>\n",
       "      <td>49.791784</td>\n",
       "    </tr>\n",
       "    <tr>\n",
       "      <th>Ultraviolet [W/m2]</th>\n",
       "      <td>0.894617</td>\n",
       "      <td>1.371647</td>\n",
       "      <td>2.090951</td>\n",
       "      <td>2.880174</td>\n",
       "      <td>3.937485</td>\n",
       "    </tr>\n",
       "    <tr>\n",
       "      <th>Wind Velocity [m/s]</th>\n",
       "      <td>0.627778</td>\n",
       "      <td>0.518333</td>\n",
       "      <td>0.640000</td>\n",
       "      <td>0.970000</td>\n",
       "      <td>1.230000</td>\n",
       "    </tr>\n",
       "    <tr>\n",
       "      <th>Wind Direction [º]</th>\n",
       "      <td>281.160176</td>\n",
       "      <td>334.330448</td>\n",
       "      <td>314.492646</td>\n",
       "      <td>302.054766</td>\n",
       "      <td>293.711586</td>\n",
       "    </tr>\n",
       "    <tr>\n",
       "      <th>Surface Temperature [ºC]</th>\n",
       "      <td>9.466667</td>\n",
       "      <td>9.710000</td>\n",
       "      <td>10.370000</td>\n",
       "      <td>10.940000</td>\n",
       "      <td>11.170000</td>\n",
       "    </tr>\n",
       "  </tbody>\n",
       "</table>\n",
       "</div>"
      ],
      "text/plain": [
       "Datetime                  2014-01-01 07:40:00+00:00  \\\n",
       "Ambient Temperature [ºC]                   9.720370   \n",
       "Global Radiation [W/m2]                    7.543532   \n",
       "Diffuse Radiation [W/m2]                   7.211980   \n",
       "Ultraviolet [W/m2]                         0.894617   \n",
       "Wind Velocity [m/s]                        0.627778   \n",
       "Wind Direction [º]                       281.160176   \n",
       "Surface Temperature [ºC]                   9.466667   \n",
       "\n",
       "Datetime                  2014-01-01 07:50:00+00:00  \\\n",
       "Ambient Temperature [ºC]                   9.765000   \n",
       "Global Radiation [W/m2]                   15.729948   \n",
       "Diffuse Radiation [W/m2]                  13.826647   \n",
       "Ultraviolet [W/m2]                         1.371647   \n",
       "Wind Velocity [m/s]                        0.518333   \n",
       "Wind Direction [º]                       334.330448   \n",
       "Surface Temperature [ºC]                   9.710000   \n",
       "\n",
       "Datetime                  2014-01-01 08:00:00+00:00  \\\n",
       "Ambient Temperature [ºC]                   9.528333   \n",
       "Global Radiation [W/m2]                   39.163142   \n",
       "Diffuse Radiation [W/m2]                  26.881252   \n",
       "Ultraviolet [W/m2]                         2.090951   \n",
       "Wind Velocity [m/s]                        0.640000   \n",
       "Wind Direction [º]                       314.492646   \n",
       "Surface Temperature [ºC]                  10.370000   \n",
       "\n",
       "Datetime                  2014-01-01 08:10:00+00:00  2014-01-01 08:20:00+00:00  \n",
       "Ambient Temperature [ºC]                   9.348334                   9.451668  \n",
       "Global Radiation [W/m2]                   56.345415                  73.218330  \n",
       "Diffuse Radiation [W/m2]                  35.346479                  49.791784  \n",
       "Ultraviolet [W/m2]                         2.880174                   3.937485  \n",
       "Wind Velocity [m/s]                        0.970000                   1.230000  \n",
       "Wind Direction [º]                       302.054766                 293.711586  \n",
       "Surface Temperature [ºC]                  10.940000                  11.170000  "
      ]
     },
     "execution_count": 18,
     "metadata": {},
     "output_type": "execute_result"
    }
   ],
   "source": [
    "df_m.head().T"
   ]
  },
  {
   "cell_type": "markdown",
   "metadata": {},
   "source": [
    "# Train/Test Split"
   ]
  },
  {
   "cell_type": "markdown",
   "metadata": {},
   "source": [
    "Looking at different splits. "
   ]
  },
  {
   "cell_type": "code",
   "execution_count": 19,
   "metadata": {},
   "outputs": [
    {
     "data": {
      "text/plain": [
       "(43997.799999999996, 18856.2, 50283.200000000004, 12570.800000000001)"
      ]
     },
     "execution_count": 19,
     "metadata": {},
     "output_type": "execute_result"
    }
   ],
   "source": [
    "len(df_m) * .7, len(df_m) * .3, len(df_m) * .8, len(df_m) * .2"
   ]
  },
  {
   "cell_type": "markdown",
   "metadata": {},
   "source": [
    "Will do an 80/20 split due to abundance of data. "
   ]
  },
  {
   "cell_type": "code",
   "execution_count": 20,
   "metadata": {},
   "outputs": [],
   "source": [
    "X_train, X_test, y_train, y_test = train_test_split(df.drop(columns=\"Power DC [W]\"), \n",
    "                                                    df[\"Power DC [W]\"], test_size=0.2, \n",
    "                                                    random_state=47)"
   ]
  },
  {
   "cell_type": "code",
   "execution_count": 21,
   "metadata": {},
   "outputs": [
    {
     "data": {
      "text/plain": [
       "((50283, 7), (12571, 7))"
      ]
     },
     "execution_count": 21,
     "metadata": {},
     "output_type": "execute_result"
    }
   ],
   "source": [
    "X_train.shape, X_test.shape"
   ]
  },
  {
   "cell_type": "code",
   "execution_count": 22,
   "metadata": {},
   "outputs": [
    {
     "data": {
      "text/plain": [
       "((50283,), (12571,))"
      ]
     },
     "execution_count": 22,
     "metadata": {},
     "output_type": "execute_result"
    }
   ],
   "source": [
    "y_train.shape, y_test.shape"
   ]
  },
  {
   "cell_type": "code",
   "execution_count": 23,
   "metadata": {},
   "outputs": [
    {
     "data": {
      "text/plain": [
       "Ambient Temperature [ºC]    float64\n",
       "Global Radiation [W/m2]     float64\n",
       "Diffuse Radiation [W/m2]    float64\n",
       "Ultraviolet [W/m2]          float64\n",
       "Wind Velocity [m/s]         float64\n",
       "Wind Direction [º]          float64\n",
       "Surface Temperature [ºC]    float64\n",
       "dtype: object"
      ]
     },
     "execution_count": 23,
     "metadata": {},
     "output_type": "execute_result"
    }
   ],
   "source": [
    "X_train.dtypes"
   ]
  },
  {
   "cell_type": "code",
   "execution_count": 24,
   "metadata": {},
   "outputs": [
    {
     "data": {
      "text/plain": [
       "Ambient Temperature [ºC]    float64\n",
       "Global Radiation [W/m2]     float64\n",
       "Diffuse Radiation [W/m2]    float64\n",
       "Ultraviolet [W/m2]          float64\n",
       "Wind Velocity [m/s]         float64\n",
       "Wind Direction [º]          float64\n",
       "Surface Temperature [ºC]    float64\n",
       "dtype: object"
      ]
     },
     "execution_count": 24,
     "metadata": {},
     "output_type": "execute_result"
    }
   ],
   "source": [
    "X_test.dtypes"
   ]
  },
  {
   "cell_type": "code",
   "execution_count": 25,
   "metadata": {},
   "outputs": [
    {
     "data": {
      "text/plain": [
       "((50283, 7), (12571, 7))"
      ]
     },
     "execution_count": 25,
     "metadata": {},
     "output_type": "execute_result"
    }
   ],
   "source": [
    "#names_list = ['PV Cell']\n",
    "#names_train = X_train[names_list]\n",
    "#names_test = X_test[names_list]\n",
    "#X_train.drop(columns=names_list, inplace=True)\n",
    "#X_test.drop(columns=names_list, inplace=True)\n",
    "X_train.shape, X_test.shape"
   ]
  },
  {
   "cell_type": "code",
   "execution_count": 26,
   "metadata": {},
   "outputs": [
    {
     "data": {
      "text/plain": [
       "(Ambient Temperature [ºC]    float64\n",
       " Global Radiation [W/m2]     float64\n",
       " Diffuse Radiation [W/m2]    float64\n",
       " Ultraviolet [W/m2]          float64\n",
       " Wind Velocity [m/s]         float64\n",
       " Wind Direction [º]          float64\n",
       " Surface Temperature [ºC]    float64\n",
       " dtype: object,\n",
       " Ambient Temperature [ºC]    float64\n",
       " Global Radiation [W/m2]     float64\n",
       " Diffuse Radiation [W/m2]    float64\n",
       " Ultraviolet [W/m2]          float64\n",
       " Wind Velocity [m/s]         float64\n",
       " Wind Direction [º]          float64\n",
       " Surface Temperature [ºC]    float64\n",
       " dtype: object)"
      ]
     },
     "execution_count": 26,
     "metadata": {},
     "output_type": "execute_result"
    }
   ],
   "source": [
    "X_train.dtypes, X_test.dtypes"
   ]
  },
  {
   "cell_type": "markdown",
   "metadata": {},
   "source": [
    "# Initial \"Model\" (the mean)"
   ]
  },
  {
   "cell_type": "code",
   "execution_count": 27,
   "metadata": {},
   "outputs": [
    {
     "data": {
      "text/plain": [
       "98.30564587981719"
      ]
     },
     "execution_count": 27,
     "metadata": {},
     "output_type": "execute_result"
    }
   ],
   "source": [
    "train_mean = y_train.mean()\n",
    "train_mean"
   ]
  },
  {
   "cell_type": "code",
   "execution_count": 28,
   "metadata": {},
   "outputs": [
    {
     "data": {
      "text/plain": [
       "array([[98.30564588]])"
      ]
     },
     "execution_count": 28,
     "metadata": {},
     "output_type": "execute_result"
    }
   ],
   "source": [
    "dumb_reg = DummyRegressor(strategy='mean')\n",
    "dumb_reg.fit(X_train, y_train)\n",
    "dumb_reg.constant_"
   ]
  },
  {
   "cell_type": "code",
   "execution_count": 29,
   "metadata": {},
   "outputs": [
    {
     "data": {
      "text/plain": [
       "array([98.30564588, 98.30564588, 98.30564588, 98.30564588, 98.30564588])"
      ]
     },
     "execution_count": 29,
     "metadata": {},
     "output_type": "execute_result"
    }
   ],
   "source": [
    "y_tr_pred_ = train_mean * np.ones(len(y_train))\n",
    "y_tr_pred_[:5]"
   ]
  },
  {
   "cell_type": "code",
   "execution_count": 30,
   "metadata": {},
   "outputs": [
    {
     "data": {
      "text/plain": [
       "array([98.30564588, 98.30564588, 98.30564588, 98.30564588, 98.30564588])"
      ]
     },
     "execution_count": 30,
     "metadata": {},
     "output_type": "execute_result"
    }
   ],
   "source": [
    "y_tr_pred = dumb_reg.predict(X_train)\n",
    "y_tr_pred[:5]"
   ]
  },
  {
   "cell_type": "code",
   "execution_count": 31,
   "metadata": {},
   "outputs": [],
   "source": [
    "y_te_pred = train_mean * np.ones(len(y_test))"
   ]
  },
  {
   "cell_type": "code",
   "execution_count": 32,
   "metadata": {},
   "outputs": [
    {
     "data": {
      "text/plain": [
       "(0.0, -0.0002958208648962124)"
      ]
     },
     "execution_count": 32,
     "metadata": {},
     "output_type": "execute_result"
    }
   ],
   "source": [
    "r2_score(y_train, y_tr_pred), r2_score(y_test, y_te_pred)"
   ]
  },
  {
   "cell_type": "code",
   "execution_count": 33,
   "metadata": {},
   "outputs": [
    {
     "data": {
      "text/plain": [
       "(62.85695680827747, 63.1876378070895)"
      ]
     },
     "execution_count": 33,
     "metadata": {},
     "output_type": "execute_result"
    }
   ],
   "source": [
    "mean_absolute_error(y_train, y_tr_pred), mean_absolute_error(y_test, y_te_pred)"
   ]
  },
  {
   "cell_type": "code",
   "execution_count": 34,
   "metadata": {},
   "outputs": [
    {
     "data": {
      "text/plain": [
       "(4967.416125124615, 5003.751457786205)"
      ]
     },
     "execution_count": 34,
     "metadata": {},
     "output_type": "execute_result"
    }
   ],
   "source": [
    "mean_squared_error(y_train, y_tr_pred), mean_squared_error(y_test, y_te_pred)"
   ]
  },
  {
   "cell_type": "code",
   "execution_count": 35,
   "metadata": {},
   "outputs": [
    {
     "data": {
      "text/plain": [
       "array([70.47989873, 70.73719996])"
      ]
     },
     "execution_count": 35,
     "metadata": {},
     "output_type": "execute_result"
    }
   ],
   "source": [
    "np.sqrt([mean_squared_error(y_train, y_tr_pred), mean_squared_error(y_test, y_te_pred)])"
   ]
  },
  {
   "cell_type": "markdown",
   "metadata": {},
   "source": [
    "So using the mean, we are off by ~ 64.4 Watts when prediting power output, which would compound rather astoundingly for day/week prediction. "
   ]
  },
  {
   "cell_type": "markdown",
   "metadata": {},
   "source": [
    "# Initial (Actual) Models"
   ]
  },
  {
   "cell_type": "markdown",
   "metadata": {},
   "source": [
    "We do not have missing data so skipping the fill/drop missing value step."
   ]
  },
  {
   "cell_type": "code",
   "execution_count": 36,
   "metadata": {},
   "outputs": [],
   "source": [
    "#X_train.drop(columns='PV Cell', inplace=True)\n",
    "#X_test.drop(columns='PV Cell',inplace=True)"
   ]
  },
  {
   "cell_type": "code",
   "execution_count": 37,
   "metadata": {},
   "outputs": [],
   "source": [
    "X_tr = X_train\n",
    "X_te = X_test"
   ]
  },
  {
   "cell_type": "markdown",
   "metadata": {},
   "source": [
    "## Scaling the data"
   ]
  },
  {
   "cell_type": "code",
   "execution_count": 38,
   "metadata": {},
   "outputs": [],
   "source": [
    "#sc_X_tr = X_tr.loc[:,X_tr.columns != 'PV Cell']\n",
    "#sc_X_te = X_te.loc[:,X_te.columns != 'PV Cell']"
   ]
  },
  {
   "cell_type": "code",
   "execution_count": 39,
   "metadata": {},
   "outputs": [],
   "source": [
    "scaler = StandardScaler()\n",
    "scaler.fit(X_tr)\n",
    "X_tr_scaled = scaler.transform(X_tr)\n",
    "X_te_scaled = scaler.transform(X_te)"
   ]
  },
  {
   "cell_type": "code",
   "execution_count": null,
   "metadata": {},
   "outputs": [],
   "source": []
  },
  {
   "cell_type": "markdown",
   "metadata": {},
   "source": [
    "## Linear regresion model"
   ]
  },
  {
   "cell_type": "code",
   "execution_count": 40,
   "metadata": {},
   "outputs": [],
   "source": [
    "lm = LinearRegression().fit(X_tr_scaled, y_train)"
   ]
  },
  {
   "cell_type": "code",
   "execution_count": 41,
   "metadata": {},
   "outputs": [],
   "source": [
    "y_tr_pred = lm.predict(X_tr_scaled)\n",
    "y_te_pred = lm.predict(X_te_scaled)"
   ]
  },
  {
   "cell_type": "code",
   "execution_count": 42,
   "metadata": {},
   "outputs": [
    {
     "data": {
      "text/plain": [
       "(0.8499285910209216, 0.8520278925825345)"
      ]
     },
     "execution_count": 42,
     "metadata": {},
     "output_type": "execute_result"
    }
   ],
   "source": [
    "lm_r2 = r2_score(y_train, y_tr_pred), r2_score(y_test, y_te_pred)\n",
    "lm_r2"
   ]
  },
  {
   "cell_type": "code",
   "execution_count": 43,
   "metadata": {},
   "outputs": [
    {
     "data": {
      "text/plain": [
       "(19.819652859774223, 19.886763832394454)"
      ]
     },
     "execution_count": 43,
     "metadata": {},
     "output_type": "execute_result"
    }
   ],
   "source": [
    "lm_mae = mean_absolute_error(y_train, y_tr_pred), mean_absolute_error(y_test, y_te_pred)\n",
    "lm_mae"
   ]
  },
  {
   "cell_type": "code",
   "execution_count": 44,
   "metadata": {},
   "outputs": [
    {
     "data": {
      "text/plain": [
       "(745.4671368828452, 740.196682579006)"
      ]
     },
     "execution_count": 44,
     "metadata": {},
     "output_type": "execute_result"
    }
   ],
   "source": [
    "lm_mse = mean_squared_error(y_train, y_tr_pred), mean_squared_error(y_test, y_te_pred)\n",
    "lm_mse"
   ]
  },
  {
   "cell_type": "markdown",
   "metadata": {},
   "source": [
    "Note! We have not yet removed the voltage/current columns. This great fit is expected as current and voltage exactly explain power (Voltage*Current = Power) and as noted in prior step, current is HIGHLY correlated to Power. "
   ]
  },
  {
   "cell_type": "code",
   "execution_count": 45,
   "metadata": {},
   "outputs": [],
   "source": [
    "pipe = make_pipeline(\n",
    "    SimpleImputer(strategy='median'), \n",
    "    StandardScaler(),\n",
    "    SelectKBest(f_regression),\n",
    "    LinearRegression()\n",
    ")"
   ]
  },
  {
   "cell_type": "code",
   "execution_count": 46,
   "metadata": {},
   "outputs": [
    {
     "data": {
      "text/plain": [
       "dict_keys(['memory', 'steps', 'verbose', 'simpleimputer', 'standardscaler', 'selectkbest', 'linearregression', 'simpleimputer__add_indicator', 'simpleimputer__copy', 'simpleimputer__fill_value', 'simpleimputer__missing_values', 'simpleimputer__strategy', 'simpleimputer__verbose', 'standardscaler__copy', 'standardscaler__with_mean', 'standardscaler__with_std', 'selectkbest__k', 'selectkbest__score_func', 'linearregression__copy_X', 'linearregression__fit_intercept', 'linearregression__n_jobs', 'linearregression__normalize'])"
      ]
     },
     "execution_count": 46,
     "metadata": {},
     "output_type": "execute_result"
    }
   ],
   "source": [
    "pipe.get_params().keys()"
   ]
  },
  {
   "cell_type": "code",
   "execution_count": 47,
   "metadata": {},
   "outputs": [],
   "source": [
    "k = [k+1 for k in range(len(X_train.columns))]\n",
    "grid_params = {'selectkbest__k': k}"
   ]
  },
  {
   "cell_type": "code",
   "execution_count": 48,
   "metadata": {},
   "outputs": [],
   "source": [
    "lr_grid_cv = GridSearchCV(pipe, param_grid=grid_params, cv=5, n_jobs=-1)"
   ]
  },
  {
   "cell_type": "code",
   "execution_count": 49,
   "metadata": {},
   "outputs": [
    {
     "data": {
      "text/plain": [
       "GridSearchCV(cv=5,\n",
       "             estimator=Pipeline(steps=[('simpleimputer',\n",
       "                                        SimpleImputer(strategy='median')),\n",
       "                                       ('standardscaler', StandardScaler()),\n",
       "                                       ('selectkbest',\n",
       "                                        SelectKBest(score_func=<function f_regression at 0x118e40790>)),\n",
       "                                       ('linearregression',\n",
       "                                        LinearRegression())]),\n",
       "             n_jobs=-1, param_grid={'selectkbest__k': [1, 2, 3, 4, 5, 6, 7]})"
      ]
     },
     "execution_count": 49,
     "metadata": {},
     "output_type": "execute_result"
    }
   ],
   "source": [
    "lr_grid_cv.fit(X_train, y_train)"
   ]
  },
  {
   "cell_type": "code",
   "execution_count": 50,
   "metadata": {},
   "outputs": [],
   "source": [
    "score_mean = lr_grid_cv.cv_results_['mean_test_score']\n",
    "score_std = lr_grid_cv.cv_results_['std_test_score']\n",
    "cv_k = [k for k in lr_grid_cv.cv_results_['param_selectkbest__k']]"
   ]
  },
  {
   "cell_type": "code",
   "execution_count": 51,
   "metadata": {},
   "outputs": [
    {
     "data": {
      "text/plain": [
       "{'selectkbest__k': 7}"
      ]
     },
     "execution_count": 51,
     "metadata": {},
     "output_type": "execute_result"
    }
   ],
   "source": [
    "lr_grid_cv.best_params_"
   ]
  },
  {
   "cell_type": "code",
   "execution_count": 52,
   "metadata": {
    "scrolled": true
   },
   "outputs": [
    {
     "data": {
      "image/png": "[encoded data removed]",
      "text/plain": [
       "<Figure size 720x360 with 1 Axes>"
      ]
     },
     "metadata": {
      "needs_background": "light"
     },
     "output_type": "display_data"
    }
   ],
   "source": [
    "best_k = lr_grid_cv.best_params_['selectkbest__k']\n",
    "plt.subplots(figsize=(10, 5))\n",
    "plt.errorbar(cv_k, score_mean, yerr=score_std)\n",
    "plt.axvline(x=best_k, c='r', ls='--', alpha=.5)\n",
    "plt.xlabel('k')\n",
    "plt.ylabel('CV score (r-squared)')\n",
    "plt.title('Pipeline mean CV score (error bars +/- 1sd)');"
   ]
  },
  {
   "cell_type": "code",
   "execution_count": 53,
   "metadata": {},
   "outputs": [],
   "source": [
    "selected = lr_grid_cv.best_estimator_.named_steps.selectkbest.get_support()"
   ]
  },
  {
   "cell_type": "code",
   "execution_count": 54,
   "metadata": {},
   "outputs": [
    {
     "data": {
      "text/plain": [
       "Global Radiation [W/m2]     85.256207\n",
       "Surface Temperature [ºC]    27.684863\n",
       "Wind Velocity [m/s]          1.830070\n",
       "Diffuse Radiation [W/m2]     1.298509\n",
       "Wind Direction [º]          -3.750840\n",
       "Ultraviolet [W/m2]         -30.427005\n",
       "Ambient Temperature [ºC]   -33.751300\n",
       "dtype: float64"
      ]
     },
     "execution_count": 54,
     "metadata": {},
     "output_type": "execute_result"
    }
   ],
   "source": [
    "coefs = lr_grid_cv.best_estimator_.named_steps.linearregression.coef_\n",
    "features = X_train.columns[selected]\n",
    "pd.Series(coefs, index=features).sort_values(ascending=False)"
   ]
  },
  {
   "cell_type": "markdown",
   "metadata": {},
   "source": [
    "Insert notes/observations here. "
   ]
  },
  {
   "cell_type": "markdown",
   "metadata": {},
   "source": [
    "# Random Forest Model"
   ]
  },
  {
   "cell_type": "code",
   "execution_count": 55,
   "metadata": {},
   "outputs": [],
   "source": [
    "RF_pipe = make_pipeline(\n",
    "    SimpleImputer(strategy='median'),\n",
    "    StandardScaler(),\n",
    "    RandomForestRegressor(random_state=47,n_jobs=-1)\n",
    ")"
   ]
  },
  {
   "cell_type": "code",
   "execution_count": 56,
   "metadata": {},
   "outputs": [],
   "source": [
    "rf_default_cv_results = cross_validate(RF_pipe, X_train, y_train, cv=3)"
   ]
  },
  {
   "cell_type": "code",
   "execution_count": 57,
   "metadata": {},
   "outputs": [
    {
     "data": {
      "text/plain": [
       "array([0.92633858, 0.92647825, 0.92681082])"
      ]
     },
     "execution_count": 57,
     "metadata": {},
     "output_type": "execute_result"
    }
   ],
   "source": [
    "rf_cv_scores = rf_default_cv_results['test_score']\n",
    "rf_cv_scores"
   ]
  },
  {
   "cell_type": "code",
   "execution_count": 58,
   "metadata": {},
   "outputs": [
    {
     "data": {
      "text/plain": [
       "(0.9265425494335503, 0.00019807700807893946)"
      ]
     },
     "execution_count": 58,
     "metadata": {},
     "output_type": "execute_result"
    }
   ],
   "source": [
    "np.mean(rf_cv_scores), np.std(rf_cv_scores)"
   ]
  },
  {
   "cell_type": "code",
   "execution_count": null,
   "metadata": {},
   "outputs": [],
   "source": []
  },
  {
   "cell_type": "markdown",
   "metadata": {},
   "source": [
    "#Note to self: need to change this. []\n",
    "#n_est = [int(n) for n in np.logspace(start=1, stop=3, num=5)]\n",
    "grid_params = {\n",
    "        'randomforestregressor__n_estimators': [120,300,500,800,1200],\n",
    "        'standardscaler': [StandardScaler(), None],\n",
    "        'simpleimputer__strategy': ['mean', 'median']\n",
    "}\n",
    "grid_params"
   ]
  },
  {
   "cell_type": "code",
   "execution_count": 59,
   "metadata": {},
   "outputs": [],
   "source": [
    "#rf_grid_cv = GridSearchCV(RF_pipe, param_grid=grid_params, cv=3, n_jobs=-1)"
   ]
  },
  {
   "cell_type": "code",
   "execution_count": 60,
   "metadata": {},
   "outputs": [],
   "source": [
    "#rf_grid_cv.fit(X_train, y_train)"
   ]
  },
  {
   "cell_type": "code",
   "execution_count": 61,
   "metadata": {},
   "outputs": [],
   "source": [
    "#rf_grid_cv.best_params_"
   ]
  },
  {
   "cell_type": "code",
   "execution_count": 62,
   "metadata": {},
   "outputs": [],
   "source": [
    "#1200, mean, none is best"
   ]
  },
  {
   "cell_type": "code",
   "execution_count": 63,
   "metadata": {},
   "outputs": [],
   "source": [
    "#Note to self: need to change this. []\n",
    "#n_est = [int(n) for n in np.logspace(start=1, stop=3, num=5)]\n",
    "#grid_params = {\n",
    "#        'randomforestregressor__n_estimators': [800,1000,1200,1400,1600],\n",
    "#        'standardscaler': [None],\n",
    "#        'simpleimputer__strategy': ['mean']\n",
    "#}\n",
    "#grid_params"
   ]
  },
  {
   "cell_type": "code",
   "execution_count": 64,
   "metadata": {},
   "outputs": [],
   "source": [
    "#rf_grid_cv = GridSearchCV(RF_pipe, param_grid=grid_params, cv=3, n_jobs=-1)"
   ]
  },
  {
   "cell_type": "code",
   "execution_count": 65,
   "metadata": {},
   "outputs": [],
   "source": [
    "#rf_grid_cv.fit(X_train, y_train)"
   ]
  },
  {
   "cell_type": "code",
   "execution_count": 66,
   "metadata": {},
   "outputs": [],
   "source": [
    "#rf_grid_cv.best_params_"
   ]
  },
  {
   "cell_type": "code",
   "execution_count": 67,
   "metadata": {},
   "outputs": [],
   "source": [
    "#1400 best\n",
    "#grid_params = {\n",
    "#        'randomforestregressor__n_estimators': [1300,1400,1500],\n",
    "#        'standardscaler': [None],\n",
    "#        'simpleimputer__strategy': ['mean']\n",
    "#}\n",
    "#grid_params"
   ]
  },
  {
   "cell_type": "code",
   "execution_count": 68,
   "metadata": {},
   "outputs": [],
   "source": [
    "#rf_grid_cv = GridSearchCV(RF_pipe, param_grid=grid_params, cv=3, n_jobs=-1)"
   ]
  },
  {
   "cell_type": "code",
   "execution_count": 69,
   "metadata": {},
   "outputs": [],
   "source": [
    "\n",
    "#rf_grid_cv.fit(X_train, y_train)"
   ]
  },
  {
   "cell_type": "code",
   "execution_count": 70,
   "metadata": {},
   "outputs": [],
   "source": [
    "#rf_grid_cv.best_params_"
   ]
  },
  {
   "cell_type": "code",
   "execution_count": 84,
   "metadata": {},
   "outputs": [
    {
     "data": {
      "text/plain": [
       "{'randomforestregressor__n_estimators': [1525, 1530],\n",
       " 'standardscaler': [None],\n",
       " 'simpleimputer__strategy': ['mean']}"
      ]
     },
     "execution_count": 84,
     "metadata": {},
     "output_type": "execute_result"
    }
   ],
   "source": [
    "##### 1500 best; 1525 best; 1550 best; 1525>1550, 1530>1520, 1530>1540, 1530>1525. 1530 it is. \n",
    "grid_params = {\n",
    "        'randomforestregressor__n_estimators': [1525,1530],\n",
    "        'standardscaler': [None],\n",
    "        'simpleimputer__strategy': ['mean']\n",
    "}\n",
    "grid_params"
   ]
  },
  {
   "cell_type": "code",
   "execution_count": 85,
   "metadata": {},
   "outputs": [],
   "source": [
    "rf_grid_cv = GridSearchCV(RF_pipe, param_grid=grid_params, cv=3, n_jobs=-1)"
   ]
  },
  {
   "cell_type": "code",
   "execution_count": 86,
   "metadata": {},
   "outputs": [
    {
     "data": {
      "text/plain": [
       "GridSearchCV(cv=3,\n",
       "             estimator=Pipeline(steps=[('simpleimputer',\n",
       "                                        SimpleImputer(strategy='median')),\n",
       "                                       ('standardscaler', StandardScaler()),\n",
       "                                       ('randomforestregressor',\n",
       "                                        RandomForestRegressor(n_jobs=-1,\n",
       "                                                              random_state=47))]),\n",
       "             n_jobs=-1,\n",
       "             param_grid={'randomforestregressor__n_estimators': [1525, 1530],\n",
       "                         'simpleimputer__strategy': ['mean'],\n",
       "                         'standardscaler': [None]})"
      ]
     },
     "execution_count": 86,
     "metadata": {},
     "output_type": "execute_result"
    }
   ],
   "source": [
    "rf_grid_cv.fit(X_train, y_train)"
   ]
  },
  {
   "cell_type": "code",
   "execution_count": 87,
   "metadata": {},
   "outputs": [
    {
     "data": {
      "text/plain": [
       "{'randomforestregressor__n_estimators': 1530,\n",
       " 'simpleimputer__strategy': 'mean',\n",
       " 'standardscaler': None}"
      ]
     },
     "execution_count": 87,
     "metadata": {},
     "output_type": "execute_result"
    }
   ],
   "source": [
    "rf_grid_cv.best_params_"
   ]
  },
  {
   "cell_type": "code",
   "execution_count": 99,
   "metadata": {},
   "outputs": [],
   "source": [
    "rf_best_cv_results = cross_validate(rf_grid_cv.best_estimator_, X_train, y_train, cv=3)"
   ]
  },
  {
   "cell_type": "code",
   "execution_count": 101,
   "metadata": {},
   "outputs": [],
   "source": [
    "rf_best_scores = rf_best_cv_results['test_score'] "
   ]
  },
  {
   "cell_type": "code",
   "execution_count": 103,
   "metadata": {},
   "outputs": [
    {
     "data": {
      "text/plain": [
       "(0.9273619438125843, 0.00024953190954711947)"
      ]
     },
     "execution_count": 103,
     "metadata": {},
     "output_type": "execute_result"
    }
   ],
   "source": [
    "np.mean(rf_best_scores), np.std(rf_best_scores)"
   ]
  },
  {
   "cell_type": "code",
   "execution_count": null,
   "metadata": {},
   "outputs": [],
   "source": []
  },
  {
   "cell_type": "code",
   "execution_count": null,
   "metadata": {},
   "outputs": [],
   "source": []
  },
  {
   "cell_type": "markdown",
   "metadata": {},
   "source": [
    "#1400 best\n",
    "grid_params = {\n",
    "        'randomforestregressor__n_estimators': [1300,1400,1500],\n",
    "        'standardscaler': [None],\n",
    "        'simpleimputer__strategy': ['mean']\n",
    "}\n",
    "grid_params\n",
    "\n",
    "rf_grid_cv = GridSearchCV(RF_pipe, param_grid=grid_params, cv=3, n_jobs=-1)\n",
    "\n",
    "rf_grid_cv.fit(X_train, y_train)\n",
    "\n",
    "rf_grid_cv.best_params_"
   ]
  },
  {
   "cell_type": "markdown",
   "metadata": {},
   "source": [
    "rf_best_cv_results = cross_validate(rf_grid_cv.best_estimator_, X_train, y_train, cv=3)\n",
    "rf_best_scores = rf_best_cv_results['test_score']\n",
    "rf_best_scores"
   ]
  },
  {
   "cell_type": "markdown",
   "metadata": {},
   "source": [
    "np.mean(rf_best_scores), np.std(rf_best_scores)"
   ]
  },
  {
   "cell_type": "code",
   "execution_count": 104,
   "metadata": {},
   "outputs": [
    {
     "data": {
      "image/png": "[encoded data removed]",
      "text/plain": [
       "<Figure size 720x360 with 1 Axes>"
      ]
     },
     "metadata": {
      "needs_background": "light"
     },
     "output_type": "display_data"
    }
   ],
   "source": [
    "plt.subplots(figsize=(10, 5))\n",
    "imps = rf_grid_cv.best_estimator_.named_steps.randomforestregressor.feature_importances_\n",
    "rf_feat_imps = pd.Series(imps, index=X_train.columns).sort_values(ascending=False)\n",
    "rf_feat_imps.plot(kind='bar') \n",
    "plt.xlabel('features')\n",
    "plt.ylabel('importance')\n",
    "plt.title('Best random forest regressor feature importances');"
   ]
  },
  {
   "cell_type": "markdown",
   "metadata": {},
   "source": [
    "# Model Performance"
   ]
  },
  {
   "cell_type": "markdown",
   "metadata": {},
   "source": [
    "Linear Model Performance"
   ]
  },
  {
   "cell_type": "code",
   "execution_count": 89,
   "metadata": {},
   "outputs": [],
   "source": [
    "lr_neg_mae = cross_validate(lr_grid_cv.best_estimator_, X_train, y_train, \n",
    "                            scoring='neg_mean_absolute_error', cv=5, n_jobs=-1)"
   ]
  },
  {
   "cell_type": "code",
   "execution_count": 90,
   "metadata": {},
   "outputs": [
    {
     "data": {
      "text/plain": [
       "(19.827181706359386, 0.20477603098447625)"
      ]
     },
     "execution_count": 90,
     "metadata": {},
     "output_type": "execute_result"
    }
   ],
   "source": [
    "lr_mae_mean = np.mean(-1 * lr_neg_mae['test_score'])\n",
    "lr_mae_std = np.std(-1 * lr_neg_mae['test_score'])\n",
    "lr_mae_mean, lr_mae_std"
   ]
  },
  {
   "cell_type": "code",
   "execution_count": 91,
   "metadata": {},
   "outputs": [
    {
     "data": {
      "text/plain": [
       "19.886763832394454"
      ]
     },
     "execution_count": 91,
     "metadata": {},
     "output_type": "execute_result"
    }
   ],
   "source": [
    "mean_absolute_error(y_test, lr_grid_cv.best_estimator_.predict(X_test))"
   ]
  },
  {
   "cell_type": "markdown",
   "metadata": {},
   "source": [
    "RF Model Performance"
   ]
  },
  {
   "cell_type": "code",
   "execution_count": 92,
   "metadata": {},
   "outputs": [],
   "source": [
    "rf_neg_mae = cross_validate(rf_grid_cv.best_estimator_, X_train, y_train, \n",
    "                            scoring='neg_mean_absolute_error', cv=3, n_jobs=-1)"
   ]
  },
  {
   "cell_type": "code",
   "execution_count": 93,
   "metadata": {},
   "outputs": [
    {
     "data": {
      "text/plain": [
       "(11.998944154476446, 0.020757578712582443)"
      ]
     },
     "execution_count": 93,
     "metadata": {},
     "output_type": "execute_result"
    }
   ],
   "source": [
    "rf_mae_mean = np.mean(-1 * rf_neg_mae['test_score'])\n",
    "rf_mae_std = np.std(-1 * rf_neg_mae['test_score'])\n",
    "rf_mae_mean, rf_mae_std"
   ]
  },
  {
   "cell_type": "code",
   "execution_count": 94,
   "metadata": {},
   "outputs": [
    {
     "data": {
      "text/plain": [
       "11.533793509973508"
      ]
     },
     "execution_count": 94,
     "metadata": {},
     "output_type": "execute_result"
    }
   ],
   "source": [
    "mean_absolute_error(y_test, rf_grid_cv.best_estimator_.predict(X_test))"
   ]
  },
  {
   "cell_type": "code",
   "execution_count": 95,
   "metadata": {},
   "outputs": [
    {
     "data": {
      "text/plain": [
       "(0.0, 253.5785)"
      ]
     },
     "execution_count": 95,
     "metadata": {},
     "output_type": "execute_result"
    }
   ],
   "source": [
    "y_test.min(),y_test.max()"
   ]
  },
  {
   "cell_type": "markdown",
   "metadata": {},
   "source": [
    "# Save the model"
   ]
  },
  {
   "cell_type": "code",
   "execution_count": 105,
   "metadata": {},
   "outputs": [],
   "source": [
    "best_model = rf_grid_cv.best_estimator_\n",
    "best_model.version = '3.0'\n",
    "best_model.pandas_version = pd.__version__\n",
    "best_model.numpy_version = np.__version__\n",
    "best_model.sklearn_version = sklearn_version\n",
    "best_model.X_columns = [col for col in X_train.columns]\n",
    "best_model.build_datetime = datetime.datetime.now()\n",
    "    \n",
    "modelpath = './models'\n",
    "if not os.path.exists(modelpath):\n",
    "    os.mkdir(modelpath)\n",
    "pvmodel_path = os.path.join(modelpath, '4months_A_pv.pkl')\n",
    "if not os.path.exists(pvmodel_path):\n",
    "    with open(pvmodel_path, 'wb') as f:\n",
    "        pickle.dump(best_model, f)"
   ]
  },
  {
   "cell_type": "code",
   "execution_count": 106,
   "metadata": {},
   "outputs": [
    {
     "name": "stdout",
     "output_type": "stream",
     "text": [
      "Pipeline(steps=[('simpleimputer', SimpleImputer()), ('standardscaler', None),\n",
      "                ('randomforestregressor',\n",
      "                 RandomForestRegressor(n_estimators=1530, n_jobs=-1,\n",
      "                                       random_state=47))])\n"
     ]
    }
   ],
   "source": [
    "print(best_model)"
   ]
  },
  {
   "cell_type": "code",
   "execution_count": null,
   "metadata": {},
   "outputs": [],
   "source": []
  }
 ],
 "metadata": {
  "kernelspec": {
   "display_name": "Python 3",
   "language": "python",
   "name": "python3"
  },
  "language_info": {
   "codemirror_mode": {
    "name": "ipython",
    "version": 3
   },
   "file_extension": ".py",
   "mimetype": "text/x-python",
   "name": "python",
   "nbconvert_exporter": "python",
   "pygments_lexer": "ipython3",
   "version": "3.8.3"
  }
 },
 "nbformat": 4,
 "nbformat_minor": 4
}
