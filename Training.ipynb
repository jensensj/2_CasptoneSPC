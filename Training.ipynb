{
 "cells": [
  {
   "cell_type": "markdown",
   "metadata": {},
   "source": [
    "# Imports"
   ]
  },
  {
   "cell_type": "code",
   "execution_count": 3,
   "metadata": {},
   "outputs": [],
   "source": [
    "import pandas as pd\n",
    "import numpy as np\n",
    "import os\n",
    "import pickle\n",
    "import matplotlib.pyplot as plt\n",
    "import seaborn as sns\n",
    "from sklearn import __version__ as sklearn_version\n",
    "from sklearn.decomposition import PCA\n",
    "from sklearn.preprocessing import scale\n",
    "from sklearn.model_selection import train_test_split, cross_validate, GridSearchCV, learning_curve\n",
    "from sklearn.preprocessing import StandardScaler, MinMaxScaler\n",
    "from sklearn.dummy import DummyRegressor\n",
    "from sklearn.linear_model import LinearRegression\n",
    "from sklearn.ensemble import RandomForestRegressor\n",
    "from sklearn.metrics import r2_score, mean_squared_error, mean_absolute_error\n",
    "from sklearn.pipeline import make_pipeline\n",
    "from sklearn.impute import SimpleImputer\n",
    "from sklearn.feature_selection import SelectKBest, f_regression\n",
    "from sklearn.metrics import mean_absolute_error\n",
    "from fbprophet import Prophet\n",
    "import datetime"
   ]
  },
  {
   "cell_type": "markdown",
   "metadata": {},
   "source": [
    "# Load Data"
   ]
  },
  {
   "cell_type": "code",
   "execution_count": 4,
   "metadata": {},
   "outputs": [],
   "source": [
    "#Data Loading\n",
    "df = pd.read_pickle('./pkl_files/df_tots.pkl')"
   ]
  },
  {
   "cell_type": "code",
   "execution_count": 5,
   "metadata": {},
   "outputs": [
    {
     "data": {
      "text/html": [
       "<div>\n",
       "<style scoped>\n",
       "    .dataframe tbody tr th:only-of-type {\n",
       "        vertical-align: middle;\n",
       "    }\n",
       "\n",
       "    .dataframe tbody tr th {\n",
       "        vertical-align: top;\n",
       "    }\n",
       "\n",
       "    .dataframe thead th {\n",
       "        text-align: right;\n",
       "    }\n",
       "</style>\n",
       "<table border=\"1\" class=\"dataframe\">\n",
       "  <thead>\n",
       "    <tr style=\"text-align: right;\">\n",
       "      <th>Datetime</th>\n",
       "      <th>2014-01-01 07:41:00+00:00</th>\n",
       "      <th>2014-01-01 07:42:00+00:00</th>\n",
       "      <th>2014-01-01 07:42:00+00:00</th>\n",
       "      <th>2014-01-01 07:43:00+00:00</th>\n",
       "      <th>2014-01-01 07:43:00+00:00</th>\n",
       "    </tr>\n",
       "  </thead>\n",
       "  <tbody>\n",
       "    <tr>\n",
       "      <th>Ambient Temperature [ºC]</th>\n",
       "      <td>9.7</td>\n",
       "      <td>9.7</td>\n",
       "      <td>9.7</td>\n",
       "      <td>9.7</td>\n",
       "      <td>9.7</td>\n",
       "    </tr>\n",
       "    <tr>\n",
       "      <th>Global Radiation [W/m2]</th>\n",
       "      <td>7.13115</td>\n",
       "      <td>7.04044</td>\n",
       "      <td>7.04044</td>\n",
       "      <td>6.59441</td>\n",
       "      <td>6.59441</td>\n",
       "    </tr>\n",
       "    <tr>\n",
       "      <th>Diffuse Radiation [W/m2]</th>\n",
       "      <td>6.92915</td>\n",
       "      <td>6.84788</td>\n",
       "      <td>6.84788</td>\n",
       "      <td>6.67284</td>\n",
       "      <td>6.67284</td>\n",
       "    </tr>\n",
       "    <tr>\n",
       "      <th>Ultraviolet [W/m2]</th>\n",
       "      <td>0.751824</td>\n",
       "      <td>0.78193</td>\n",
       "      <td>0.78193</td>\n",
       "      <td>0.813929</td>\n",
       "      <td>0.813929</td>\n",
       "    </tr>\n",
       "    <tr>\n",
       "      <th>Wind Velocity [m/s]</th>\n",
       "      <td>0.7</td>\n",
       "      <td>0.666667</td>\n",
       "      <td>0.666667</td>\n",
       "      <td>0.616667</td>\n",
       "      <td>0.616667</td>\n",
       "    </tr>\n",
       "    <tr>\n",
       "      <th>Wind Direction [º]</th>\n",
       "      <td>275.334</td>\n",
       "      <td>278.503</td>\n",
       "      <td>278.503</td>\n",
       "      <td>284.667</td>\n",
       "      <td>284.667</td>\n",
       "    </tr>\n",
       "    <tr>\n",
       "      <th>Current DC [A]</th>\n",
       "      <td>0.19527</td>\n",
       "      <td>0.130512</td>\n",
       "      <td>0.0725</td>\n",
       "      <td>0.075</td>\n",
       "      <td>0.0525</td>\n",
       "    </tr>\n",
       "    <tr>\n",
       "      <th>PV Cell</th>\n",
       "      <td>A</td>\n",
       "      <td>B</td>\n",
       "      <td>A</td>\n",
       "      <td>A</td>\n",
       "      <td>B</td>\n",
       "    </tr>\n",
       "    <tr>\n",
       "      <th>Power DC [W]</th>\n",
       "      <td>2.85095</td>\n",
       "      <td>2.38837</td>\n",
       "      <td>1.67475</td>\n",
       "      <td>1.7325</td>\n",
       "      <td>1.17338</td>\n",
       "    </tr>\n",
       "    <tr>\n",
       "      <th>Surface Temperature [ºC]</th>\n",
       "      <td>9.4</td>\n",
       "      <td>9.7</td>\n",
       "      <td>9.4</td>\n",
       "      <td>9.4</td>\n",
       "      <td>9.7</td>\n",
       "    </tr>\n",
       "    <tr>\n",
       "      <th>Voltage DC [V]</th>\n",
       "      <td>14.6</td>\n",
       "      <td>18.3</td>\n",
       "      <td>23.1</td>\n",
       "      <td>23.1</td>\n",
       "      <td>22.35</td>\n",
       "    </tr>\n",
       "  </tbody>\n",
       "</table>\n",
       "</div>"
      ],
      "text/plain": [
       "Datetime                 2014-01-01 07:41:00+00:00 2014-01-01 07:42:00+00:00  \\\n",
       "Ambient Temperature [ºC]                       9.7                       9.7   \n",
       "Global Radiation [W/m2]                    7.13115                   7.04044   \n",
       "Diffuse Radiation [W/m2]                   6.92915                   6.84788   \n",
       "Ultraviolet [W/m2]                        0.751824                   0.78193   \n",
       "Wind Velocity [m/s]                            0.7                  0.666667   \n",
       "Wind Direction [º]                         275.334                   278.503   \n",
       "Current DC [A]                             0.19527                  0.130512   \n",
       "PV Cell                                          A                         B   \n",
       "Power DC [W]                               2.85095                   2.38837   \n",
       "Surface Temperature [ºC]                       9.4                       9.7   \n",
       "Voltage DC [V]                                14.6                      18.3   \n",
       "\n",
       "Datetime                 2014-01-01 07:42:00+00:00 2014-01-01 07:43:00+00:00  \\\n",
       "Ambient Temperature [ºC]                       9.7                       9.7   \n",
       "Global Radiation [W/m2]                    7.04044                   6.59441   \n",
       "Diffuse Radiation [W/m2]                   6.84788                   6.67284   \n",
       "Ultraviolet [W/m2]                         0.78193                  0.813929   \n",
       "Wind Velocity [m/s]                       0.666667                  0.616667   \n",
       "Wind Direction [º]                         278.503                   284.667   \n",
       "Current DC [A]                              0.0725                     0.075   \n",
       "PV Cell                                          A                         A   \n",
       "Power DC [W]                               1.67475                    1.7325   \n",
       "Surface Temperature [ºC]                       9.4                       9.4   \n",
       "Voltage DC [V]                                23.1                      23.1   \n",
       "\n",
       "Datetime                 2014-01-01 07:43:00+00:00  \n",
       "Ambient Temperature [ºC]                       9.7  \n",
       "Global Radiation [W/m2]                    6.59441  \n",
       "Diffuse Radiation [W/m2]                   6.67284  \n",
       "Ultraviolet [W/m2]                        0.813929  \n",
       "Wind Velocity [m/s]                       0.616667  \n",
       "Wind Direction [º]                         284.667  \n",
       "Current DC [A]                              0.0525  \n",
       "PV Cell                                          B  \n",
       "Power DC [W]                               1.17338  \n",
       "Surface Temperature [ºC]                       9.7  \n",
       "Voltage DC [V]                               22.35  "
      ]
     },
     "execution_count": 5,
     "metadata": {},
     "output_type": "execute_result"
    }
   ],
   "source": [
    "df.head().T"
   ]
  },
  {
   "cell_type": "markdown",
   "metadata": {},
   "source": [
    "# Extract Power"
   ]
  },
  {
   "cell_type": "code",
   "execution_count": 6,
   "metadata": {},
   "outputs": [],
   "source": [
    "Power = df[\"Power DC [W]\"]"
   ]
  },
  {
   "cell_type": "code",
   "execution_count": 7,
   "metadata": {},
   "outputs": [
    {
     "data": {
      "text/plain": [
       "Datetime\n",
       "2014-01-01 07:41:00+00:00    2.850946\n",
       "2014-01-01 07:42:00+00:00    2.388366\n",
       "2014-01-01 07:42:00+00:00    1.674750\n",
       "2014-01-01 07:43:00+00:00    1.732500\n",
       "2014-01-01 07:43:00+00:00    1.173375\n",
       "Name: Power DC [W], dtype: float64"
      ]
     },
     "execution_count": 7,
     "metadata": {},
     "output_type": "execute_result"
    }
   ],
   "source": [
    "Power.head()"
   ]
  },
  {
   "cell_type": "code",
   "execution_count": 8,
   "metadata": {},
   "outputs": [
    {
     "data": {
      "text/plain": [
       "(1236488, 11)"
      ]
     },
     "execution_count": 8,
     "metadata": {},
     "output_type": "execute_result"
    }
   ],
   "source": [
    "df.shape"
   ]
  },
  {
   "cell_type": "code",
   "execution_count": 9,
   "metadata": {},
   "outputs": [],
   "source": [
    "#Drop power from df\n",
    "df_m = df.drop(columns=[\"Power DC [W]\"])"
   ]
  },
  {
   "cell_type": "code",
   "execution_count": 10,
   "metadata": {},
   "outputs": [
    {
     "data": {
      "text/plain": [
       "(1236488, 10)"
      ]
     },
     "execution_count": 10,
     "metadata": {},
     "output_type": "execute_result"
    }
   ],
   "source": [
    "df_m.shape"
   ]
  },
  {
   "cell_type": "code",
   "execution_count": 11,
   "metadata": {},
   "outputs": [
    {
     "data": {
      "text/html": [
       "<div>\n",
       "<style scoped>\n",
       "    .dataframe tbody tr th:only-of-type {\n",
       "        vertical-align: middle;\n",
       "    }\n",
       "\n",
       "    .dataframe tbody tr th {\n",
       "        vertical-align: top;\n",
       "    }\n",
       "\n",
       "    .dataframe thead th {\n",
       "        text-align: right;\n",
       "    }\n",
       "</style>\n",
       "<table border=\"1\" class=\"dataframe\">\n",
       "  <thead>\n",
       "    <tr style=\"text-align: right;\">\n",
       "      <th>Datetime</th>\n",
       "      <th>2014-01-01 07:41:00+00:00</th>\n",
       "      <th>2014-01-01 07:42:00+00:00</th>\n",
       "      <th>2014-01-01 07:42:00+00:00</th>\n",
       "      <th>2014-01-01 07:43:00+00:00</th>\n",
       "      <th>2014-01-01 07:43:00+00:00</th>\n",
       "    </tr>\n",
       "  </thead>\n",
       "  <tbody>\n",
       "    <tr>\n",
       "      <th>Ambient Temperature [ºC]</th>\n",
       "      <td>9.7</td>\n",
       "      <td>9.7</td>\n",
       "      <td>9.7</td>\n",
       "      <td>9.7</td>\n",
       "      <td>9.7</td>\n",
       "    </tr>\n",
       "    <tr>\n",
       "      <th>Global Radiation [W/m2]</th>\n",
       "      <td>7.13115</td>\n",
       "      <td>7.04044</td>\n",
       "      <td>7.04044</td>\n",
       "      <td>6.59441</td>\n",
       "      <td>6.59441</td>\n",
       "    </tr>\n",
       "    <tr>\n",
       "      <th>Diffuse Radiation [W/m2]</th>\n",
       "      <td>6.92915</td>\n",
       "      <td>6.84788</td>\n",
       "      <td>6.84788</td>\n",
       "      <td>6.67284</td>\n",
       "      <td>6.67284</td>\n",
       "    </tr>\n",
       "    <tr>\n",
       "      <th>Ultraviolet [W/m2]</th>\n",
       "      <td>0.751824</td>\n",
       "      <td>0.78193</td>\n",
       "      <td>0.78193</td>\n",
       "      <td>0.813929</td>\n",
       "      <td>0.813929</td>\n",
       "    </tr>\n",
       "    <tr>\n",
       "      <th>Wind Velocity [m/s]</th>\n",
       "      <td>0.7</td>\n",
       "      <td>0.666667</td>\n",
       "      <td>0.666667</td>\n",
       "      <td>0.616667</td>\n",
       "      <td>0.616667</td>\n",
       "    </tr>\n",
       "    <tr>\n",
       "      <th>Wind Direction [º]</th>\n",
       "      <td>275.334</td>\n",
       "      <td>278.503</td>\n",
       "      <td>278.503</td>\n",
       "      <td>284.667</td>\n",
       "      <td>284.667</td>\n",
       "    </tr>\n",
       "    <tr>\n",
       "      <th>Current DC [A]</th>\n",
       "      <td>0.19527</td>\n",
       "      <td>0.130512</td>\n",
       "      <td>0.0725</td>\n",
       "      <td>0.075</td>\n",
       "      <td>0.0525</td>\n",
       "    </tr>\n",
       "    <tr>\n",
       "      <th>PV Cell</th>\n",
       "      <td>A</td>\n",
       "      <td>B</td>\n",
       "      <td>A</td>\n",
       "      <td>A</td>\n",
       "      <td>B</td>\n",
       "    </tr>\n",
       "    <tr>\n",
       "      <th>Surface Temperature [ºC]</th>\n",
       "      <td>9.4</td>\n",
       "      <td>9.7</td>\n",
       "      <td>9.4</td>\n",
       "      <td>9.4</td>\n",
       "      <td>9.7</td>\n",
       "    </tr>\n",
       "    <tr>\n",
       "      <th>Voltage DC [V]</th>\n",
       "      <td>14.6</td>\n",
       "      <td>18.3</td>\n",
       "      <td>23.1</td>\n",
       "      <td>23.1</td>\n",
       "      <td>22.35</td>\n",
       "    </tr>\n",
       "  </tbody>\n",
       "</table>\n",
       "</div>"
      ],
      "text/plain": [
       "Datetime                 2014-01-01 07:41:00+00:00 2014-01-01 07:42:00+00:00  \\\n",
       "Ambient Temperature [ºC]                       9.7                       9.7   \n",
       "Global Radiation [W/m2]                    7.13115                   7.04044   \n",
       "Diffuse Radiation [W/m2]                   6.92915                   6.84788   \n",
       "Ultraviolet [W/m2]                        0.751824                   0.78193   \n",
       "Wind Velocity [m/s]                            0.7                  0.666667   \n",
       "Wind Direction [º]                         275.334                   278.503   \n",
       "Current DC [A]                             0.19527                  0.130512   \n",
       "PV Cell                                          A                         B   \n",
       "Surface Temperature [ºC]                       9.4                       9.7   \n",
       "Voltage DC [V]                                14.6                      18.3   \n",
       "\n",
       "Datetime                 2014-01-01 07:42:00+00:00 2014-01-01 07:43:00+00:00  \\\n",
       "Ambient Temperature [ºC]                       9.7                       9.7   \n",
       "Global Radiation [W/m2]                    7.04044                   6.59441   \n",
       "Diffuse Radiation [W/m2]                   6.84788                   6.67284   \n",
       "Ultraviolet [W/m2]                         0.78193                  0.813929   \n",
       "Wind Velocity [m/s]                       0.666667                  0.616667   \n",
       "Wind Direction [º]                         278.503                   284.667   \n",
       "Current DC [A]                              0.0725                     0.075   \n",
       "PV Cell                                          A                         A   \n",
       "Surface Temperature [ºC]                       9.4                       9.4   \n",
       "Voltage DC [V]                                23.1                      23.1   \n",
       "\n",
       "Datetime                 2014-01-01 07:43:00+00:00  \n",
       "Ambient Temperature [ºC]                       9.7  \n",
       "Global Radiation [W/m2]                    6.59441  \n",
       "Diffuse Radiation [W/m2]                   6.67284  \n",
       "Ultraviolet [W/m2]                        0.813929  \n",
       "Wind Velocity [m/s]                       0.616667  \n",
       "Wind Direction [º]                         284.667  \n",
       "Current DC [A]                              0.0525  \n",
       "PV Cell                                          B  \n",
       "Surface Temperature [ºC]                       9.7  \n",
       "Voltage DC [V]                               22.35  "
      ]
     },
     "execution_count": 11,
     "metadata": {},
     "output_type": "execute_result"
    }
   ],
   "source": [
    "df_m.head().T"
   ]
  },
  {
   "cell_type": "markdown",
   "metadata": {},
   "source": [
    "# Train/Test Split"
   ]
  },
  {
   "cell_type": "markdown",
   "metadata": {},
   "source": [
    "Looking at different splits. "
   ]
  },
  {
   "cell_type": "code",
   "execution_count": 12,
   "metadata": {},
   "outputs": [
    {
     "data": {
      "text/plain": [
       "(865541.6, 370946.39999999997, 989190.4, 247297.6)"
      ]
     },
     "execution_count": 12,
     "metadata": {},
     "output_type": "execute_result"
    }
   ],
   "source": [
    "len(df_m) * .7, len(df_m) * .3, len(df_m) * .8, len(df_m) * .2"
   ]
  },
  {
   "cell_type": "markdown",
   "metadata": {},
   "source": [
    "Will do an 80/20 split due to abundance of data. "
   ]
  },
  {
   "cell_type": "code",
   "execution_count": 13,
   "metadata": {},
   "outputs": [],
   "source": [
    "X_train, X_test, y_train, y_test = train_test_split(df.drop(columns=\"Power DC [W]\"), \n",
    "                                                    df[\"Power DC [W]\"], test_size=0.2, \n",
    "                                                    random_state=47)"
   ]
  },
  {
   "cell_type": "code",
   "execution_count": 14,
   "metadata": {},
   "outputs": [
    {
     "data": {
      "text/plain": [
       "((989190, 10), (247298, 10))"
      ]
     },
     "execution_count": 14,
     "metadata": {},
     "output_type": "execute_result"
    }
   ],
   "source": [
    "X_train.shape, X_test.shape"
   ]
  },
  {
   "cell_type": "code",
   "execution_count": 15,
   "metadata": {},
   "outputs": [
    {
     "data": {
      "text/plain": [
       "((989190,), (247298,))"
      ]
     },
     "execution_count": 15,
     "metadata": {},
     "output_type": "execute_result"
    }
   ],
   "source": [
    "y_train.shape, y_test.shape"
   ]
  },
  {
   "cell_type": "code",
   "execution_count": 16,
   "metadata": {},
   "outputs": [
    {
     "data": {
      "text/plain": [
       "Ambient Temperature [ºC]    float64\n",
       "Global Radiation [W/m2]     float64\n",
       "Diffuse Radiation [W/m2]    float64\n",
       "Ultraviolet [W/m2]          float64\n",
       "Wind Velocity [m/s]         float64\n",
       "Wind Direction [º]          float64\n",
       "Current DC [A]              float64\n",
       "PV Cell                      object\n",
       "Surface Temperature [ºC]    float64\n",
       "Voltage DC [V]              float64\n",
       "dtype: object"
      ]
     },
     "execution_count": 16,
     "metadata": {},
     "output_type": "execute_result"
    }
   ],
   "source": [
    "X_train.dtypes"
   ]
  },
  {
   "cell_type": "code",
   "execution_count": 17,
   "metadata": {},
   "outputs": [
    {
     "data": {
      "text/plain": [
       "Ambient Temperature [ºC]    float64\n",
       "Global Radiation [W/m2]     float64\n",
       "Diffuse Radiation [W/m2]    float64\n",
       "Ultraviolet [W/m2]          float64\n",
       "Wind Velocity [m/s]         float64\n",
       "Wind Direction [º]          float64\n",
       "Current DC [A]              float64\n",
       "PV Cell                      object\n",
       "Surface Temperature [ºC]    float64\n",
       "Voltage DC [V]              float64\n",
       "dtype: object"
      ]
     },
     "execution_count": 17,
     "metadata": {},
     "output_type": "execute_result"
    }
   ],
   "source": [
    "X_test.dtypes"
   ]
  },
  {
   "cell_type": "code",
   "execution_count": 18,
   "metadata": {},
   "outputs": [
    {
     "data": {
      "text/plain": [
       "((989190, 9), (247298, 9))"
      ]
     },
     "execution_count": 18,
     "metadata": {},
     "output_type": "execute_result"
    }
   ],
   "source": [
    "names_list = ['PV Cell']\n",
    "names_train = X_train[names_list]\n",
    "names_test = X_test[names_list]\n",
    "X_train.drop(columns=names_list, inplace=True)\n",
    "X_test.drop(columns=names_list, inplace=True)\n",
    "X_train.shape, X_test.shape"
   ]
  },
  {
   "cell_type": "code",
   "execution_count": 19,
   "metadata": {},
   "outputs": [
    {
     "data": {
      "text/plain": [
       "(Ambient Temperature [ºC]    float64\n",
       " Global Radiation [W/m2]     float64\n",
       " Diffuse Radiation [W/m2]    float64\n",
       " Ultraviolet [W/m2]          float64\n",
       " Wind Velocity [m/s]         float64\n",
       " Wind Direction [º]          float64\n",
       " Current DC [A]              float64\n",
       " Surface Temperature [ºC]    float64\n",
       " Voltage DC [V]              float64\n",
       " dtype: object,\n",
       " Ambient Temperature [ºC]    float64\n",
       " Global Radiation [W/m2]     float64\n",
       " Diffuse Radiation [W/m2]    float64\n",
       " Ultraviolet [W/m2]          float64\n",
       " Wind Velocity [m/s]         float64\n",
       " Wind Direction [º]          float64\n",
       " Current DC [A]              float64\n",
       " Surface Temperature [ºC]    float64\n",
       " Voltage DC [V]              float64\n",
       " dtype: object)"
      ]
     },
     "execution_count": 19,
     "metadata": {},
     "output_type": "execute_result"
    }
   ],
   "source": [
    "X_train.dtypes, X_test.dtypes"
   ]
  },
  {
   "cell_type": "markdown",
   "metadata": {},
   "source": [
    "# Initial \"Model\" (the mean)"
   ]
  },
  {
   "cell_type": "code",
   "execution_count": 20,
   "metadata": {},
   "outputs": [
    {
     "data": {
      "text/plain": [
       "98.91863204041877"
      ]
     },
     "execution_count": 20,
     "metadata": {},
     "output_type": "execute_result"
    }
   ],
   "source": [
    "train_mean = y_train.mean()\n",
    "train_mean"
   ]
  },
  {
   "cell_type": "code",
   "execution_count": 21,
   "metadata": {},
   "outputs": [
    {
     "data": {
      "text/plain": [
       "array([[98.91863204]])"
      ]
     },
     "execution_count": 21,
     "metadata": {},
     "output_type": "execute_result"
    }
   ],
   "source": [
    "dumb_reg = DummyRegressor(strategy='mean')\n",
    "dumb_reg.fit(X_train, y_train)\n",
    "dumb_reg.constant_"
   ]
  },
  {
   "cell_type": "code",
   "execution_count": 22,
   "metadata": {},
   "outputs": [
    {
     "data": {
      "text/plain": [
       "array([98.91863204, 98.91863204, 98.91863204, 98.91863204, 98.91863204])"
      ]
     },
     "execution_count": 22,
     "metadata": {},
     "output_type": "execute_result"
    }
   ],
   "source": [
    "y_tr_pred_ = train_mean * np.ones(len(y_train))\n",
    "y_tr_pred_[:5]"
   ]
  },
  {
   "cell_type": "code",
   "execution_count": 23,
   "metadata": {},
   "outputs": [
    {
     "data": {
      "text/plain": [
       "array([98.91863204, 98.91863204, 98.91863204, 98.91863204, 98.91863204])"
      ]
     },
     "execution_count": 23,
     "metadata": {},
     "output_type": "execute_result"
    }
   ],
   "source": [
    "y_tr_pred = dumb_reg.predict(X_train)\n",
    "y_tr_pred[:5]"
   ]
  },
  {
   "cell_type": "code",
   "execution_count": 24,
   "metadata": {},
   "outputs": [],
   "source": [
    "y_te_pred = train_mean * np.ones(len(y_test))"
   ]
  },
  {
   "cell_type": "code",
   "execution_count": 25,
   "metadata": {},
   "outputs": [
    {
     "data": {
      "text/plain": [
       "(0.0, -3.799678949256702e-08)"
      ]
     },
     "execution_count": 25,
     "metadata": {},
     "output_type": "execute_result"
    }
   ],
   "source": [
    "r2_score(y_train, y_tr_pred), r2_score(y_test, y_te_pred)"
   ]
  },
  {
   "cell_type": "code",
   "execution_count": 26,
   "metadata": {},
   "outputs": [
    {
     "data": {
      "text/plain": [
       "(64.38191467394942, 64.39123315252351)"
      ]
     },
     "execution_count": 26,
     "metadata": {},
     "output_type": "execute_result"
    }
   ],
   "source": [
    "mean_absolute_error(y_train, y_tr_pred), mean_absolute_error(y_test, y_te_pred)"
   ]
  },
  {
   "cell_type": "code",
   "execution_count": 27,
   "metadata": {},
   "outputs": [
    {
     "data": {
      "text/plain": [
       "(5192.215950402144, 5191.255824034419)"
      ]
     },
     "execution_count": 27,
     "metadata": {},
     "output_type": "execute_result"
    }
   ],
   "source": [
    "mean_squared_error(y_train, y_tr_pred), mean_squared_error(y_test, y_te_pred)"
   ]
  },
  {
   "cell_type": "code",
   "execution_count": 28,
   "metadata": {},
   "outputs": [
    {
     "data": {
      "text/plain": [
       "array([72.05703262, 72.05037005])"
      ]
     },
     "execution_count": 28,
     "metadata": {},
     "output_type": "execute_result"
    }
   ],
   "source": [
    "np.sqrt([mean_squared_error(y_train, y_tr_pred), mean_squared_error(y_test, y_te_pred)])"
   ]
  },
  {
   "cell_type": "markdown",
   "metadata": {},
   "source": [
    "So using the mean, we are off by ~ 64.4 Watts when prediting power output, which would compound rather astoundingly for day/week prediction. "
   ]
  },
  {
   "cell_type": "markdown",
   "metadata": {},
   "source": [
    "# Initial (Actual) Models"
   ]
  },
  {
   "cell_type": "markdown",
   "metadata": {},
   "source": [
    "We do not have missing data so skipping the fill/drop missing value step."
   ]
  },
  {
   "cell_type": "code",
   "execution_count": 29,
   "metadata": {},
   "outputs": [],
   "source": [
    "X_tr = X_train\n",
    "X_te = X_test"
   ]
  },
  {
   "cell_type": "markdown",
   "metadata": {},
   "source": [
    "## Scaling the data"
   ]
  },
  {
   "cell_type": "code",
   "execution_count": 30,
   "metadata": {},
   "outputs": [],
   "source": [
    "scaler = StandardScaler()\n",
    "scaler.fit(X_tr)\n",
    "X_tr_scaled = scaler.transform(X_tr)\n",
    "X_te_scaled = scaler.transform(X_te)"
   ]
  },
  {
   "cell_type": "markdown",
   "metadata": {},
   "source": [
    "## Linear regresion model"
   ]
  },
  {
   "cell_type": "code",
   "execution_count": 31,
   "metadata": {},
   "outputs": [],
   "source": [
    "lm = LinearRegression().fit(X_tr_scaled, y_train)"
   ]
  },
  {
   "cell_type": "code",
   "execution_count": 32,
   "metadata": {},
   "outputs": [],
   "source": [
    "y_tr_pred = lm.predict(X_tr_scaled)\n",
    "y_te_pred = lm.predict(X_te_scaled)"
   ]
  },
  {
   "cell_type": "code",
   "execution_count": 33,
   "metadata": {},
   "outputs": [
    {
     "data": {
      "text/plain": [
       "(0.9978324913504911, 0.9978303874685225)"
      ]
     },
     "execution_count": 33,
     "metadata": {},
     "output_type": "execute_result"
    }
   ],
   "source": [
    "lm_r2 = r2_score(y_train, y_tr_pred), r2_score(y_test, y_te_pred)\n",
    "lm_r2"
   ]
  },
  {
   "cell_type": "code",
   "execution_count": 34,
   "metadata": {},
   "outputs": [
    {
     "data": {
      "text/plain": [
       "(2.3985803596328124, 2.403066928581397)"
      ]
     },
     "execution_count": 34,
     "metadata": {},
     "output_type": "execute_result"
    }
   ],
   "source": [
    "lm_mae = mean_absolute_error(y_train, y_tr_pred), mean_absolute_error(y_test, y_te_pred)\n",
    "lm_mae"
   ]
  },
  {
   "cell_type": "code",
   "execution_count": 35,
   "metadata": {},
   "outputs": [
    {
     "data": {
      "text/plain": [
       "(11.254172982614593, 11.263013261972631)"
      ]
     },
     "execution_count": 35,
     "metadata": {},
     "output_type": "execute_result"
    }
   ],
   "source": [
    "lm_mse = mean_squared_error(y_train, y_tr_pred), mean_squared_error(y_test, y_te_pred)\n",
    "lm_mse"
   ]
  },
  {
   "cell_type": "markdown",
   "metadata": {},
   "source": [
    "Note! We have not yet removed the voltage/current columns. This great fit is expected as current and voltage exactly explain power (Voltage*Current = Power) and as noted in prior step, current is HIGHLY correlated to Power. "
   ]
  },
  {
   "cell_type": "code",
   "execution_count": 36,
   "metadata": {},
   "outputs": [],
   "source": [
    "pipe = make_pipeline(\n",
    "    SimpleImputer(strategy='median'), \n",
    "    StandardScaler(),\n",
    "    SelectKBest(f_regression),\n",
    "    LinearRegression()\n",
    ")"
   ]
  },
  {
   "cell_type": "code",
   "execution_count": 37,
   "metadata": {},
   "outputs": [
    {
     "data": {
      "text/plain": [
       "dict_keys(['memory', 'steps', 'verbose', 'simpleimputer', 'standardscaler', 'selectkbest', 'linearregression', 'simpleimputer__add_indicator', 'simpleimputer__copy', 'simpleimputer__fill_value', 'simpleimputer__missing_values', 'simpleimputer__strategy', 'simpleimputer__verbose', 'standardscaler__copy', 'standardscaler__with_mean', 'standardscaler__with_std', 'selectkbest__k', 'selectkbest__score_func', 'linearregression__copy_X', 'linearregression__fit_intercept', 'linearregression__n_jobs', 'linearregression__normalize'])"
      ]
     },
     "execution_count": 37,
     "metadata": {},
     "output_type": "execute_result"
    }
   ],
   "source": [
    "pipe.get_params().keys()"
   ]
  },
  {
   "cell_type": "code",
   "execution_count": 38,
   "metadata": {},
   "outputs": [],
   "source": [
    "k = [k+1 for k in range(len(X_train.columns))]\n",
    "grid_params = {'selectkbest__k': k}"
   ]
  },
  {
   "cell_type": "code",
   "execution_count": 39,
   "metadata": {},
   "outputs": [],
   "source": [
    "lr_grid_cv = GridSearchCV(pipe, param_grid=grid_params, cv=5, n_jobs=-1)"
   ]
  },
  {
   "cell_type": "code",
   "execution_count": 40,
   "metadata": {},
   "outputs": [
    {
     "data": {
      "text/plain": [
       "GridSearchCV(cv=5,\n",
       "             estimator=Pipeline(steps=[('simpleimputer',\n",
       "                                        SimpleImputer(strategy='median')),\n",
       "                                       ('standardscaler', StandardScaler()),\n",
       "                                       ('selectkbest',\n",
       "                                        SelectKBest(score_func=<function f_regression at 0x1235cd160>)),\n",
       "                                       ('linearregression',\n",
       "                                        LinearRegression())]),\n",
       "             n_jobs=-1,\n",
       "             param_grid={'selectkbest__k': [1, 2, 3, 4, 5, 6, 7, 8, 9]})"
      ]
     },
     "execution_count": 40,
     "metadata": {},
     "output_type": "execute_result"
    }
   ],
   "source": [
    "lr_grid_cv.fit(X_train, y_train)"
   ]
  },
  {
   "cell_type": "code",
   "execution_count": 41,
   "metadata": {},
   "outputs": [],
   "source": [
    "score_mean = lr_grid_cv.cv_results_['mean_test_score']\n",
    "score_std = lr_grid_cv.cv_results_['std_test_score']\n",
    "cv_k = [k for k in lr_grid_cv.cv_results_['param_selectkbest__k']]"
   ]
  },
  {
   "cell_type": "code",
   "execution_count": 42,
   "metadata": {},
   "outputs": [
    {
     "data": {
      "text/plain": [
       "{'selectkbest__k': 8}"
      ]
     },
     "execution_count": 42,
     "metadata": {},
     "output_type": "execute_result"
    }
   ],
   "source": [
    "lr_grid_cv.best_params_"
   ]
  },
  {
   "cell_type": "code",
   "execution_count": 43,
   "metadata": {},
   "outputs": [
    {
     "data": {
      "image/png": "[encoded data removed]",
      "text/plain": [
       "<Figure size 720x360 with 1 Axes>"
      ]
     },
     "metadata": {
      "needs_background": "light"
     },
     "output_type": "display_data"
    }
   ],
   "source": [
    "best_k = lr_grid_cv.best_params_['selectkbest__k']\n",
    "plt.subplots(figsize=(10, 5))\n",
    "plt.errorbar(cv_k, score_mean, yerr=score_std)\n",
    "plt.axvline(x=best_k, c='r', ls='--', alpha=.5)\n",
    "plt.xlabel('k')\n",
    "plt.ylabel('CV score (r-squared)')\n",
    "plt.title('Pipeline mean CV score (error bars +/- 1sd)');"
   ]
  },
  {
   "cell_type": "code",
   "execution_count": 44,
   "metadata": {},
   "outputs": [],
   "source": [
    "selected = lr_grid_cv.best_estimator_.named_steps.selectkbest.get_support()"
   ]
  },
  {
   "cell_type": "code",
   "execution_count": 45,
   "metadata": {},
   "outputs": [
    {
     "data": {
      "text/plain": [
       "Current DC [A]              72.750950\n",
       "Global Radiation [W/m2]      3.337571\n",
       "Voltage DC [V]               2.740923\n",
       "Wind Velocity [m/s]          0.511517\n",
       "Diffuse Radiation [W/m2]     0.248531\n",
       "Ambient Temperature [ºC]     0.053963\n",
       "Surface Temperature [ºC]    -2.287454\n",
       "Ultraviolet [W/m2]          -4.078993\n",
       "dtype: float64"
      ]
     },
     "execution_count": 45,
     "metadata": {},
     "output_type": "execute_result"
    }
   ],
   "source": [
    "coefs = lr_grid_cv.best_estimator_.named_steps.linearregression.coef_\n",
    "features = X_train.columns[selected]\n",
    "pd.Series(coefs, index=features).sort_values(ascending=False)"
   ]
  },
  {
   "cell_type": "markdown",
   "metadata": {},
   "source": [
    "Insert notes/observations here. "
   ]
  },
  {
   "cell_type": "markdown",
   "metadata": {},
   "source": [
    "# Random Forest Model"
   ]
  },
  {
   "cell_type": "code",
   "execution_count": 46,
   "metadata": {},
   "outputs": [],
   "source": [
    "RF_pipe = make_pipeline(\n",
    "    SimpleImputer(strategy='median'),\n",
    "    StandardScaler(),\n",
    "    RandomForestRegressor(random_state=47,n_jobs=-1)\n",
    ")"
   ]
  },
  {
   "cell_type": "code",
   "execution_count": 47,
   "metadata": {},
   "outputs": [],
   "source": [
    "rf_default_cv_results = cross_validate(RF_pipe, X_train, y_train, cv=5)"
   ]
  },
  {
   "cell_type": "code",
   "execution_count": 48,
   "metadata": {},
   "outputs": [
    {
     "data": {
      "text/plain": [
       "array([0.99999714, 0.99999638, 0.999997  , 0.99999785, 0.99999645])"
      ]
     },
     "execution_count": 48,
     "metadata": {},
     "output_type": "execute_result"
    }
   ],
   "source": [
    "rf_cv_scores = rf_default_cv_results['test_score']\n",
    "rf_cv_scores"
   ]
  },
  {
   "cell_type": "code",
   "execution_count": 49,
   "metadata": {},
   "outputs": [
    {
     "data": {
      "text/plain": [
       "(0.9999969648065565, 5.344953533162398e-07)"
      ]
     },
     "execution_count": 49,
     "metadata": {},
     "output_type": "execute_result"
    }
   ],
   "source": [
    "np.mean(rf_cv_scores), np.std(rf_cv_scores)"
   ]
  },
  {
   "cell_type": "code",
   "execution_count": null,
   "metadata": {},
   "outputs": [],
   "source": []
  },
  {
   "cell_type": "code",
   "execution_count": 50,
   "metadata": {},
   "outputs": [
    {
     "data": {
      "text/plain": [
       "{'randomforestregressor__n_estimators': [10,\n",
       "  12,\n",
       "  16,\n",
       "  20,\n",
       "  26,\n",
       "  33,\n",
       "  42,\n",
       "  54,\n",
       "  69,\n",
       "  88,\n",
       "  112,\n",
       "  143,\n",
       "  183,\n",
       "  233,\n",
       "  297,\n",
       "  379,\n",
       "  483,\n",
       "  615,\n",
       "  784,\n",
       "  1000],\n",
       " 'standardscaler': [StandardScaler(), None],\n",
       " 'simpleimputer__strategy': ['mean', 'median']}"
      ]
     },
     "execution_count": 50,
     "metadata": {},
     "output_type": "execute_result"
    }
   ],
   "source": [
    "n_est = [int(n) for n in np.logspace(start=1, stop=3, num=20)]\n",
    "grid_params = {\n",
    "        'randomforestregressor__n_estimators': n_est,\n",
    "        'standardscaler': [StandardScaler(), None],\n",
    "        'simpleimputer__strategy': ['mean', 'median']\n",
    "}\n",
    "grid_params"
   ]
  },
  {
   "cell_type": "code",
   "execution_count": 51,
   "metadata": {},
   "outputs": [],
   "source": [
    "rf_grid_cv = GridSearchCV(RF_pipe, param_grid=grid_params, cv=5, n_jobs=-1)"
   ]
  },
  {
   "cell_type": "code",
   "execution_count": null,
   "metadata": {},
   "outputs": [],
   "source": [
    "rf_grid_cv.fit(X_train, y_train)"
   ]
  },
  {
   "cell_type": "code",
   "execution_count": null,
   "metadata": {},
   "outputs": [],
   "source": [
    "rf_grid_cv.best_params_"
   ]
  },
  {
   "cell_type": "code",
   "execution_count": null,
   "metadata": {},
   "outputs": [],
   "source": [
    "rf_best_cv_results = cross_validate(rf_grid_cv.best_estimator_, X_train, y_train, cv=5)\n",
    "rf_best_scores = rf_best_cv_results['test_score']\n",
    "rf_best_scores"
   ]
  },
  {
   "cell_type": "code",
   "execution_count": null,
   "metadata": {},
   "outputs": [],
   "source": [
    "np.mean(rf_best_scores), np.std(rf_best_scores)"
   ]
  },
  {
   "cell_type": "code",
   "execution_count": null,
   "metadata": {},
   "outputs": [],
   "source": [
    "plt.subplots(figsize=(10, 5))\n",
    "imps = rf_grid_cv.best_estimator_.named_steps.randomforestregressor.feature_importances_\n",
    "rf_feat_imps = pd.Series(imps, index=X_train.columns).sort_values(ascending=False)\n",
    "rf_feat_imps.plot(kind='bar')\n",
    "plt.xlabel('features')\n",
    "plt.ylabel('importance')\n",
    "plt.title('Best random forest regressor feature importances');"
   ]
  }
 ],
 "metadata": {
  "kernelspec": {
   "display_name": "Python 3",
   "language": "python",
   "name": "python3"
  },
  "language_info": {
   "codemirror_mode": {
    "name": "ipython",
    "version": 3
   },
   "file_extension": ".py",
   "mimetype": "text/x-python",
   "name": "python",
   "nbconvert_exporter": "python",
   "pygments_lexer": "ipython3",
   "version": "3.8.3"
  }
 },
 "nbformat": 4,
 "nbformat_minor": 4
}
