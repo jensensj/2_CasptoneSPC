{
 "cells": [
  {
   "cell_type": "code",
   "execution_count": 2,
   "metadata": {},
   "outputs": [],
   "source": [
    "import pandas as pd\n",
    "pd.set_option('display.max_columns', None)\n",
    "import numpy as np\n",
    "from fbprophet import Prophet\n",
    "%matplotlib inline\n",
    "import matplotlib.pyplot as plt"
   ]
  },
  {
   "cell_type": "code",
   "execution_count": 93,
   "metadata": {},
   "outputs": [],
   "source": [
    "df = pd.read_pickle('./pkl_files/df_10.pkl')"
   ]
  },
  {
   "cell_type": "code",
   "execution_count": 94,
   "metadata": {},
   "outputs": [
    {
     "data": {
      "text/plain": [
       "(125677, 11)"
      ]
     },
     "execution_count": 94,
     "metadata": {},
     "output_type": "execute_result"
    }
   ],
   "source": [
    "df.shape[0], df.shape[1]"
   ]
  },
  {
   "cell_type": "code",
   "execution_count": 95,
   "metadata": {},
   "outputs": [
    {
     "data": {
      "text/html": [
       "<div>\n",
       "<style scoped>\n",
       "    .dataframe tbody tr th:only-of-type {\n",
       "        vertical-align: middle;\n",
       "    }\n",
       "\n",
       "    .dataframe tbody tr th {\n",
       "        vertical-align: top;\n",
       "    }\n",
       "\n",
       "    .dataframe thead th {\n",
       "        text-align: right;\n",
       "    }\n",
       "</style>\n",
       "<table border=\"1\" class=\"dataframe\">\n",
       "  <thead>\n",
       "    <tr style=\"text-align: right;\">\n",
       "      <th></th>\n",
       "      <th>PV Cell</th>\n",
       "      <th>Ambient Temperature [ºC]</th>\n",
       "      <th>Global Radiation [W/m2]</th>\n",
       "      <th>Diffuse Radiation [W/m2]</th>\n",
       "      <th>Ultraviolet [W/m2]</th>\n",
       "      <th>Wind Velocity [m/s]</th>\n",
       "      <th>Wind Direction [º]</th>\n",
       "      <th>Current DC [A]</th>\n",
       "      <th>Power DC [W]</th>\n",
       "      <th>Surface Temperature [ºC]</th>\n",
       "      <th>Voltage DC [V]</th>\n",
       "    </tr>\n",
       "    <tr>\n",
       "      <th>Datetime</th>\n",
       "      <th></th>\n",
       "      <th></th>\n",
       "      <th></th>\n",
       "      <th></th>\n",
       "      <th></th>\n",
       "      <th></th>\n",
       "      <th></th>\n",
       "      <th></th>\n",
       "      <th></th>\n",
       "      <th></th>\n",
       "      <th></th>\n",
       "    </tr>\n",
       "  </thead>\n",
       "  <tbody>\n",
       "    <tr>\n",
       "      <th>2014-01-01 07:40:00+00:00</th>\n",
       "      <td>A</td>\n",
       "      <td>9.720370</td>\n",
       "      <td>7.543532</td>\n",
       "      <td>7.211980</td>\n",
       "      <td>0.894617</td>\n",
       "      <td>0.627778</td>\n",
       "      <td>281.160176</td>\n",
       "      <td>0.096141</td>\n",
       "      <td>2.026272</td>\n",
       "      <td>9.466667</td>\n",
       "      <td>22.033333</td>\n",
       "    </tr>\n",
       "    <tr>\n",
       "      <th>2014-01-01 07:40:00+00:00</th>\n",
       "      <td>B</td>\n",
       "      <td>9.722917</td>\n",
       "      <td>7.595080</td>\n",
       "      <td>7.247334</td>\n",
       "      <td>0.912466</td>\n",
       "      <td>0.618750</td>\n",
       "      <td>281.888467</td>\n",
       "      <td>0.041626</td>\n",
       "      <td>0.939702</td>\n",
       "      <td>9.750000</td>\n",
       "      <td>26.312500</td>\n",
       "    </tr>\n",
       "    <tr>\n",
       "      <th>2014-01-01 07:50:00+00:00</th>\n",
       "      <td>B</td>\n",
       "      <td>9.765000</td>\n",
       "      <td>15.729948</td>\n",
       "      <td>13.826647</td>\n",
       "      <td>1.371647</td>\n",
       "      <td>0.518333</td>\n",
       "      <td>334.330448</td>\n",
       "      <td>0.246500</td>\n",
       "      <td>4.836387</td>\n",
       "      <td>9.940000</td>\n",
       "      <td>21.045000</td>\n",
       "    </tr>\n",
       "    <tr>\n",
       "      <th>2014-01-01 07:50:00+00:00</th>\n",
       "      <td>A</td>\n",
       "      <td>9.765000</td>\n",
       "      <td>15.729948</td>\n",
       "      <td>13.826647</td>\n",
       "      <td>1.371647</td>\n",
       "      <td>0.518333</td>\n",
       "      <td>334.330448</td>\n",
       "      <td>0.292750</td>\n",
       "      <td>6.863350</td>\n",
       "      <td>9.710000</td>\n",
       "      <td>23.375000</td>\n",
       "    </tr>\n",
       "    <tr>\n",
       "      <th>2014-01-01 08:00:00+00:00</th>\n",
       "      <td>B</td>\n",
       "      <td>9.528333</td>\n",
       "      <td>39.163142</td>\n",
       "      <td>26.881252</td>\n",
       "      <td>2.090951</td>\n",
       "      <td>0.640000</td>\n",
       "      <td>314.492646</td>\n",
       "      <td>0.938500</td>\n",
       "      <td>18.431113</td>\n",
       "      <td>10.890000</td>\n",
       "      <td>19.635000</td>\n",
       "    </tr>\n",
       "  </tbody>\n",
       "</table>\n",
       "</div>"
      ],
      "text/plain": [
       "                          PV Cell  Ambient Temperature [ºC]  \\\n",
       "Datetime                                                      \n",
       "2014-01-01 07:40:00+00:00       A                  9.720370   \n",
       "2014-01-01 07:40:00+00:00       B                  9.722917   \n",
       "2014-01-01 07:50:00+00:00       B                  9.765000   \n",
       "2014-01-01 07:50:00+00:00       A                  9.765000   \n",
       "2014-01-01 08:00:00+00:00       B                  9.528333   \n",
       "\n",
       "                           Global Radiation [W/m2]  Diffuse Radiation [W/m2]  \\\n",
       "Datetime                                                                       \n",
       "2014-01-01 07:40:00+00:00                 7.543532                  7.211980   \n",
       "2014-01-01 07:40:00+00:00                 7.595080                  7.247334   \n",
       "2014-01-01 07:50:00+00:00                15.729948                 13.826647   \n",
       "2014-01-01 07:50:00+00:00                15.729948                 13.826647   \n",
       "2014-01-01 08:00:00+00:00                39.163142                 26.881252   \n",
       "\n",
       "                           Ultraviolet [W/m2]  Wind Velocity [m/s]  \\\n",
       "Datetime                                                             \n",
       "2014-01-01 07:40:00+00:00            0.894617             0.627778   \n",
       "2014-01-01 07:40:00+00:00            0.912466             0.618750   \n",
       "2014-01-01 07:50:00+00:00            1.371647             0.518333   \n",
       "2014-01-01 07:50:00+00:00            1.371647             0.518333   \n",
       "2014-01-01 08:00:00+00:00            2.090951             0.640000   \n",
       "\n",
       "                           Wind Direction [º]  Current DC [A]  Power DC [W]  \\\n",
       "Datetime                                                                      \n",
       "2014-01-01 07:40:00+00:00          281.160176        0.096141      2.026272   \n",
       "2014-01-01 07:40:00+00:00          281.888467        0.041626      0.939702   \n",
       "2014-01-01 07:50:00+00:00          334.330448        0.246500      4.836387   \n",
       "2014-01-01 07:50:00+00:00          334.330448        0.292750      6.863350   \n",
       "2014-01-01 08:00:00+00:00          314.492646        0.938500     18.431113   \n",
       "\n",
       "                           Surface Temperature [ºC]  Voltage DC [V]  \n",
       "Datetime                                                             \n",
       "2014-01-01 07:40:00+00:00                  9.466667       22.033333  \n",
       "2014-01-01 07:40:00+00:00                  9.750000       26.312500  \n",
       "2014-01-01 07:50:00+00:00                  9.940000       21.045000  \n",
       "2014-01-01 07:50:00+00:00                  9.710000       23.375000  \n",
       "2014-01-01 08:00:00+00:00                 10.890000       19.635000  "
      ]
     },
     "execution_count": 95,
     "metadata": {},
     "output_type": "execute_result"
    }
   ],
   "source": [
    "df.head()"
   ]
  },
  {
   "cell_type": "code",
   "execution_count": 96,
   "metadata": {},
   "outputs": [],
   "source": [
    "df['dt'] = df.index"
   ]
  },
  {
   "cell_type": "code",
   "execution_count": 97,
   "metadata": {},
   "outputs": [
    {
     "data": {
      "text/plain": [
       "(Timestamp('2014-01-01 07:40:00+0000', tz='UTC'),\n",
       " Timestamp('2016-12-29 17:20:00+0000', tz='UTC'))"
      ]
     },
     "execution_count": 97,
     "metadata": {},
     "output_type": "execute_result"
    }
   ],
   "source": [
    "df['dt'].min(), df['dt'].max()"
   ]
  },
  {
   "cell_type": "code",
   "execution_count": 98,
   "metadata": {},
   "outputs": [
    {
     "name": "stdout",
     "output_type": "stream",
     "text": [
      "<class 'pandas.core.frame.DataFrame'>\n",
      "DatetimeIndex: 125677 entries, 2014-01-01 07:40:00+00:00 to 2016-12-29 17:20:00+00:00\n",
      "Data columns (total 12 columns):\n",
      " #   Column                    Non-Null Count   Dtype              \n",
      "---  ------                    --------------   -----              \n",
      " 0   PV Cell                   125677 non-null  object             \n",
      " 1   Ambient Temperature [ºC]  125677 non-null  float64            \n",
      " 2   Global Radiation [W/m2]   125677 non-null  float64            \n",
      " 3   Diffuse Radiation [W/m2]  125677 non-null  float64            \n",
      " 4   Ultraviolet [W/m2]        125677 non-null  float64            \n",
      " 5   Wind Velocity [m/s]       125677 non-null  float64            \n",
      " 6   Wind Direction [º]        125677 non-null  float64            \n",
      " 7   Current DC [A]            125677 non-null  float64            \n",
      " 8   Power DC [W]              125677 non-null  float64            \n",
      " 9   Surface Temperature [ºC]  125677 non-null  float64            \n",
      " 10  Voltage DC [V]            125677 non-null  float64            \n",
      " 11  dt                        125677 non-null  datetime64[ns, UTC]\n",
      "dtypes: datetime64[ns, UTC](1), float64(10), object(1)\n",
      "memory usage: 12.5+ MB\n"
     ]
    }
   ],
   "source": [
    "df.info()"
   ]
  },
  {
   "cell_type": "code",
   "execution_count": 99,
   "metadata": {},
   "outputs": [],
   "source": [
    "cut = '2015-05-31'\n",
    "mask_train = (df['dt'] >='2014-01-01') & (df['dt'] <= cut)\n",
    "mask_test = (df['dt'] >= cut) & (df['dt'] <='2015-12-31')"
   ]
  },
  {
   "cell_type": "code",
   "execution_count": null,
   "metadata": {},
   "outputs": [],
   "source": []
  },
  {
   "cell_type": "code",
   "execution_count": null,
   "metadata": {},
   "outputs": [],
   "source": []
  },
  {
   "cell_type": "code",
   "execution_count": null,
   "metadata": {},
   "outputs": [],
   "source": []
  },
  {
   "cell_type": "code",
   "execution_count": null,
   "metadata": {},
   "outputs": [],
   "source": []
  },
  {
   "cell_type": "code",
   "execution_count": 100,
   "metadata": {},
   "outputs": [],
   "source": [
    "df_train = df.loc[mask_train]\n",
    "df_test = df.loc[mask_test]"
   ]
  },
  {
   "cell_type": "code",
   "execution_count": 101,
   "metadata": {},
   "outputs": [
    {
     "data": {
      "text/plain": [
       "(74249, 23643)"
      ]
     },
     "execution_count": 101,
     "metadata": {},
     "output_type": "execute_result"
    }
   ],
   "source": [
    "df_train.shape[0], df_test.shape[0]"
   ]
  },
  {
   "cell_type": "code",
   "execution_count": 102,
   "metadata": {},
   "outputs": [],
   "source": [
    "s = df_train.shape[0]+df_test.shape[0]"
   ]
  },
  {
   "cell_type": "code",
   "execution_count": 103,
   "metadata": {},
   "outputs": [
    {
     "data": {
      "text/plain": [
       "0.7584787316634659"
      ]
     },
     "execution_count": 103,
     "metadata": {},
     "output_type": "execute_result"
    }
   ],
   "source": [
    "df_train.shape[0]/s"
   ]
  },
  {
   "cell_type": "code",
   "execution_count": 104,
   "metadata": {},
   "outputs": [
    {
     "data": {
      "text/plain": [
       "<matplotlib.axes._subplots.AxesSubplot at 0x12c330190>"
      ]
     },
     "execution_count": 104,
     "metadata": {},
     "output_type": "execute_result"
    },
    {
     "data": {
      "image/png": "[encoded data removed]",
      "text/plain": [
       "<Figure size 432x288 with 1 Axes>"
      ]
     },
     "metadata": {
      "needs_background": "light"
     },
     "output_type": "display_data"
    }
   ],
   "source": [
    "df_train.plot(x='dt',y='Power DC [W]')"
   ]
  },
  {
   "cell_type": "code",
   "execution_count": 105,
   "metadata": {},
   "outputs": [
    {
     "data": {
      "text/plain": [
       "<matplotlib.axes._subplots.AxesSubplot at 0x131b7f670>"
      ]
     },
     "execution_count": 105,
     "metadata": {},
     "output_type": "execute_result"
    },
    {
     "data": {
      "image/png": "[encoded data removed]",
      "text/plain": [
       "<Figure size 432x288 with 1 Axes>"
      ]
     },
     "metadata": {
      "needs_background": "light"
     },
     "output_type": "display_data"
    }
   ],
   "source": [
    "df_test.plot(x='dt',y='Power DC [W]')"
   ]
  },
  {
   "cell_type": "code",
   "execution_count": 106,
   "metadata": {},
   "outputs": [],
   "source": [
    "X_train = df_train.drop(columns=['Power DC [W]'])\n",
    "X_test = df_test.drop(columns=['Power DC [W]'])"
   ]
  },
  {
   "cell_type": "code",
   "execution_count": 108,
   "metadata": {},
   "outputs": [],
   "source": [
    "y_train = df_train['Power DC [W]']\n",
    "y_test = df_test['Power DC [W]']"
   ]
  },
  {
   "cell_type": "code",
   "execution_count": 109,
   "metadata": {},
   "outputs": [
    {
     "data": {
      "text/plain": [
       "((74249, 11), (23643, 11))"
      ]
     },
     "execution_count": 109,
     "metadata": {},
     "output_type": "execute_result"
    }
   ],
   "source": [
    "X_train.shape, X_test.shape"
   ]
  },
  {
   "cell_type": "code",
   "execution_count": 110,
   "metadata": {},
   "outputs": [
    {
     "data": {
      "text/plain": [
       "((74249,), (23643,))"
      ]
     },
     "execution_count": 110,
     "metadata": {},
     "output_type": "execute_result"
    }
   ],
   "source": [
    "y_train.shape, y_test.shape"
   ]
  },
  {
   "cell_type": "code",
   "execution_count": 129,
   "metadata": {},
   "outputs": [
    {
     "data": {
      "text/html": [
       "<div>\n",
       "<style scoped>\n",
       "    .dataframe tbody tr th:only-of-type {\n",
       "        vertical-align: middle;\n",
       "    }\n",
       "\n",
       "    .dataframe tbody tr th {\n",
       "        vertical-align: top;\n",
       "    }\n",
       "\n",
       "    .dataframe thead th {\n",
       "        text-align: right;\n",
       "    }\n",
       "</style>\n",
       "<table border=\"1\" class=\"dataframe\">\n",
       "  <thead>\n",
       "    <tr style=\"text-align: right;\">\n",
       "      <th></th>\n",
       "      <th>PV Cell</th>\n",
       "      <th>Ambient Temperature [ºC]</th>\n",
       "      <th>Global Radiation [W/m2]</th>\n",
       "      <th>Diffuse Radiation [W/m2]</th>\n",
       "      <th>Ultraviolet [W/m2]</th>\n",
       "      <th>Wind Velocity [m/s]</th>\n",
       "      <th>Wind Direction [º]</th>\n",
       "      <th>Current DC [A]</th>\n",
       "      <th>Power DC [W]</th>\n",
       "      <th>Surface Temperature [ºC]</th>\n",
       "      <th>Voltage DC [V]</th>\n",
       "      <th>ds</th>\n",
       "    </tr>\n",
       "    <tr>\n",
       "      <th>Datetime</th>\n",
       "      <th></th>\n",
       "      <th></th>\n",
       "      <th></th>\n",
       "      <th></th>\n",
       "      <th></th>\n",
       "      <th></th>\n",
       "      <th></th>\n",
       "      <th></th>\n",
       "      <th></th>\n",
       "      <th></th>\n",
       "      <th></th>\n",
       "      <th></th>\n",
       "    </tr>\n",
       "  </thead>\n",
       "  <tbody>\n",
       "    <tr>\n",
       "      <th>2014-01-01 07:40:00+00:00</th>\n",
       "      <td>A</td>\n",
       "      <td>9.720370</td>\n",
       "      <td>7.543532</td>\n",
       "      <td>7.211980</td>\n",
       "      <td>0.894617</td>\n",
       "      <td>0.627778</td>\n",
       "      <td>281.160176</td>\n",
       "      <td>0.096141</td>\n",
       "      <td>2.026272</td>\n",
       "      <td>9.466667</td>\n",
       "      <td>22.033333</td>\n",
       "      <td>2014-01-01 07:40:00+00:00</td>\n",
       "    </tr>\n",
       "    <tr>\n",
       "      <th>2014-01-01 07:40:00+00:00</th>\n",
       "      <td>B</td>\n",
       "      <td>9.722917</td>\n",
       "      <td>7.595080</td>\n",
       "      <td>7.247334</td>\n",
       "      <td>0.912466</td>\n",
       "      <td>0.618750</td>\n",
       "      <td>281.888467</td>\n",
       "      <td>0.041626</td>\n",
       "      <td>0.939702</td>\n",
       "      <td>9.750000</td>\n",
       "      <td>26.312500</td>\n",
       "      <td>2014-01-01 07:40:00+00:00</td>\n",
       "    </tr>\n",
       "    <tr>\n",
       "      <th>2014-01-01 07:50:00+00:00</th>\n",
       "      <td>B</td>\n",
       "      <td>9.765000</td>\n",
       "      <td>15.729948</td>\n",
       "      <td>13.826647</td>\n",
       "      <td>1.371647</td>\n",
       "      <td>0.518333</td>\n",
       "      <td>334.330448</td>\n",
       "      <td>0.246500</td>\n",
       "      <td>4.836387</td>\n",
       "      <td>9.940000</td>\n",
       "      <td>21.045000</td>\n",
       "      <td>2014-01-01 07:50:00+00:00</td>\n",
       "    </tr>\n",
       "    <tr>\n",
       "      <th>2014-01-01 07:50:00+00:00</th>\n",
       "      <td>A</td>\n",
       "      <td>9.765000</td>\n",
       "      <td>15.729948</td>\n",
       "      <td>13.826647</td>\n",
       "      <td>1.371647</td>\n",
       "      <td>0.518333</td>\n",
       "      <td>334.330448</td>\n",
       "      <td>0.292750</td>\n",
       "      <td>6.863350</td>\n",
       "      <td>9.710000</td>\n",
       "      <td>23.375000</td>\n",
       "      <td>2014-01-01 07:50:00+00:00</td>\n",
       "    </tr>\n",
       "    <tr>\n",
       "      <th>2014-01-01 08:00:00+00:00</th>\n",
       "      <td>B</td>\n",
       "      <td>9.528333</td>\n",
       "      <td>39.163142</td>\n",
       "      <td>26.881252</td>\n",
       "      <td>2.090951</td>\n",
       "      <td>0.640000</td>\n",
       "      <td>314.492646</td>\n",
       "      <td>0.938500</td>\n",
       "      <td>18.431113</td>\n",
       "      <td>10.890000</td>\n",
       "      <td>19.635000</td>\n",
       "      <td>2014-01-01 08:00:00+00:00</td>\n",
       "    </tr>\n",
       "  </tbody>\n",
       "</table>\n",
       "</div>"
      ],
      "text/plain": [
       "                          PV Cell  Ambient Temperature [ºC]  \\\n",
       "Datetime                                                      \n",
       "2014-01-01 07:40:00+00:00       A                  9.720370   \n",
       "2014-01-01 07:40:00+00:00       B                  9.722917   \n",
       "2014-01-01 07:50:00+00:00       B                  9.765000   \n",
       "2014-01-01 07:50:00+00:00       A                  9.765000   \n",
       "2014-01-01 08:00:00+00:00       B                  9.528333   \n",
       "\n",
       "                           Global Radiation [W/m2]  Diffuse Radiation [W/m2]  \\\n",
       "Datetime                                                                       \n",
       "2014-01-01 07:40:00+00:00                 7.543532                  7.211980   \n",
       "2014-01-01 07:40:00+00:00                 7.595080                  7.247334   \n",
       "2014-01-01 07:50:00+00:00                15.729948                 13.826647   \n",
       "2014-01-01 07:50:00+00:00                15.729948                 13.826647   \n",
       "2014-01-01 08:00:00+00:00                39.163142                 26.881252   \n",
       "\n",
       "                           Ultraviolet [W/m2]  Wind Velocity [m/s]  \\\n",
       "Datetime                                                             \n",
       "2014-01-01 07:40:00+00:00            0.894617             0.627778   \n",
       "2014-01-01 07:40:00+00:00            0.912466             0.618750   \n",
       "2014-01-01 07:50:00+00:00            1.371647             0.518333   \n",
       "2014-01-01 07:50:00+00:00            1.371647             0.518333   \n",
       "2014-01-01 08:00:00+00:00            2.090951             0.640000   \n",
       "\n",
       "                           Wind Direction [º]  Current DC [A]  Power DC [W]  \\\n",
       "Datetime                                                                      \n",
       "2014-01-01 07:40:00+00:00          281.160176        0.096141      2.026272   \n",
       "2014-01-01 07:40:00+00:00          281.888467        0.041626      0.939702   \n",
       "2014-01-01 07:50:00+00:00          334.330448        0.246500      4.836387   \n",
       "2014-01-01 07:50:00+00:00          334.330448        0.292750      6.863350   \n",
       "2014-01-01 08:00:00+00:00          314.492646        0.938500     18.431113   \n",
       "\n",
       "                           Surface Temperature [ºC]  Voltage DC [V]  \\\n",
       "Datetime                                                              \n",
       "2014-01-01 07:40:00+00:00                  9.466667       22.033333   \n",
       "2014-01-01 07:40:00+00:00                  9.750000       26.312500   \n",
       "2014-01-01 07:50:00+00:00                  9.940000       21.045000   \n",
       "2014-01-01 07:50:00+00:00                  9.710000       23.375000   \n",
       "2014-01-01 08:00:00+00:00                 10.890000       19.635000   \n",
       "\n",
       "                                                 ds  \n",
       "Datetime                                             \n",
       "2014-01-01 07:40:00+00:00 2014-01-01 07:40:00+00:00  \n",
       "2014-01-01 07:40:00+00:00 2014-01-01 07:40:00+00:00  \n",
       "2014-01-01 07:50:00+00:00 2014-01-01 07:50:00+00:00  \n",
       "2014-01-01 07:50:00+00:00 2014-01-01 07:50:00+00:00  \n",
       "2014-01-01 08:00:00+00:00 2014-01-01 08:00:00+00:00  "
      ]
     },
     "execution_count": 129,
     "metadata": {},
     "output_type": "execute_result"
    }
   ],
   "source": [
    "df['ds'] = df['dt']"
   ]
  },
  {
   "cell_type": "code",
   "execution_count": 130,
   "metadata": {},
   "outputs": [],
   "source": [
    "df['y'] = df['Power DC [W]']"
   ]
  },
  {
   "cell_type": "code",
   "execution_count": 159,
   "metadata": {},
   "outputs": [],
   "source": [
    "df['ds']=df.index.tz_localize(None)"
   ]
  },
  {
   "cell_type": "code",
   "execution_count": 160,
   "metadata": {},
   "outputs": [
    {
     "data": {
      "text/plain": [
       "PV Cell                             object\n",
       "Ambient Temperature [ºC]           float64\n",
       "Global Radiation [W/m2]            float64\n",
       "Diffuse Radiation [W/m2]           float64\n",
       "Ultraviolet [W/m2]                 float64\n",
       "Wind Velocity [m/s]                float64\n",
       "Wind Direction [º]                 float64\n",
       "Current DC [A]                     float64\n",
       "Power DC [W]                       float64\n",
       "Surface Temperature [ºC]           float64\n",
       "Voltage DC [V]                     float64\n",
       "ds                          datetime64[ns]\n",
       "y                                  float64\n",
       "dtype: object"
      ]
     },
     "execution_count": 160,
     "metadata": {},
     "output_type": "execute_result"
    }
   ],
   "source": [
    "df.dtypes"
   ]
  },
  {
   "cell_type": "code",
   "execution_count": null,
   "metadata": {},
   "outputs": [],
   "source": [
    "prophet = Prophet()\n",
    "prophet.fit(df)\n",
    "future = prophet.make_future_dataframe(periods=365, freq='d')\n",
    "forecast = prophet.predict(future)\n",
    "fig = prophet.plot(forecast)\n",
    "a = add_changepoints_to_plot(fig.gca(), prophet, forecast)"
   ]
  },
  {
   "cell_type": "code",
   "execution_count": null,
   "metadata": {},
   "outputs": [],
   "source": []
  },
  {
   "cell_type": "code",
   "execution_count": null,
   "metadata": {},
   "outputs": [],
   "source": []
  }
 ],
 "metadata": {
  "kernelspec": {
   "display_name": "Python 3",
   "language": "python",
   "name": "python3"
  },
  "language_info": {
   "codemirror_mode": {
    "name": "ipython",
    "version": 3
   },
   "file_extension": ".py",
   "mimetype": "text/x-python",
   "name": "python",
   "nbconvert_exporter": "python",
   "pygments_lexer": "ipython3",
   "version": "3.8.3"
  }
 },
 "nbformat": 4,
 "nbformat_minor": 4
}
